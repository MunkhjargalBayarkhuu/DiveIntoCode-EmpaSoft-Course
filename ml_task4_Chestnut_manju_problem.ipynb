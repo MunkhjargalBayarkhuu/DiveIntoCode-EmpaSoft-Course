{
 "cells": [
  {
   "cell_type": "markdown",
   "id": "68b71b19-4e2d-42f7-942c-8ffe0a7c40f6",
   "metadata": {},
   "source": [
    "## [Problem] The day when chestnut buns cover the solar system"
   ]
  },
  {
   "cell_type": "code",
   "execution_count": 1,
   "id": "b70b70d6-c9f7-4d60-83ae-8205ea50f48c",
   "metadata": {},
   "outputs": [],
   "source": [
    "import math\n",
    "\n",
    "def compute_period(chestnut_volume,\n",
    "                   volume_of_solar_system):\n",
    "\n",
    "    ''' \n",
    "    ## \n",
    "\n",
    "    Parameteres\n",
    "    -----------\n",
    "    chestnut_volume: float\n",
    "        # The volume size of chestnut\n",
    "    volume_of_solar_system: float\n",
    "        # The volume size of solar system\n",
    "\n",
    "    Returns\n",
    "    -------\n",
    "    number_of_days : int\n",
    "        # Number of days\n",
    "    '''\n",
    "\n",
    "    #5 min 2 times increased\n",
    "    hourly_minutes = 60 #hour*minutes\n",
    "    number_of_times = hourly_minutes/5 #expontial growth\n",
    "   \n",
    "    ### number chestnut that can cover solar system\n",
    "    number_of_chestnuts = int(volume_of_solar_system/chestnut_volume)\n",
    "    folds = math.ceil(math.log2(number_of_chestnuts)) #5 minutely\n",
    "    number_of_days = int(folds/number_of_times)\n",
    "\n",
    "    return number_of_days"
   ]
  },
  {
   "cell_type": "code",
   "execution_count": 2,
   "id": "b85d4772-55b7-4163-a506-1a8f0bfab595",
   "metadata": {},
   "outputs": [
    {
     "name": "stdout",
     "output_type": "stream",
     "text": [
      "Number of hours: 22\n"
     ]
    }
   ],
   "source": [
    "chestnut_volume = 0.000000000000005\n",
    "volume_of_solar_system = 9*(10**64)\n",
    "n_hours = compute_period(chestnut_volume=chestnut_volume,\n",
    "                        volume_of_solar_system=volume_of_solar_system)\n",
    "\n",
    "print(\"Number of hours:\", n_hours)"
   ]
  },
  {
   "cell_type": "markdown",
   "id": "28da9cc4-ca4f-4b16-b3db-79afa1172d52",
   "metadata": {},
   "source": [
    "## Tokyo Dome"
   ]
  },
  {
   "cell_type": "code",
   "execution_count": 3,
   "id": "32ba83ee-cf6f-4d37-84de-5646e4c519fd",
   "metadata": {},
   "outputs": [],
   "source": [
    "def calculate_buns_occupy_time(buns_volume, \n",
    "                               place_volume):\n",
    "\n",
    "    '''\n",
    "        A function that calculates the number of hours that chestnut bun will cover specific place\n",
    "    \n",
    "        Parameteres\n",
    "        -----------\n",
    "        buns_volume: int\n",
    "            the volume size of the chestnut buns in m3\n",
    "        place_volume: int\n",
    "            the volume size of the place in m3\n",
    "            \n",
    "        Returns\n",
    "        -------\n",
    "        number_of_doubles : int\n",
    "            minimum number of doubles required to occupy the space given\n",
    "        total_time_to_cover_h: float\n",
    "            minimum number of hours required to occupy the space given\n",
    "    '''\n",
    "\n",
    "    number_of_doubles = math.ceil(math.log2(place_volume/buns_volume))\n",
    "    total_time_to_cover_h = number_of_doubles*5/60\n",
    "    print(f\"number of doubles: {number_of_doubles}\")\n",
    "    print(f\"total hours to cover: {total_time_to_cover_h}\")\n",
    "\n",
    "    return number_of_doubles, total_time_to_cover_h"
   ]
  },
  {
   "cell_type": "code",
   "execution_count": 4,
   "id": "fa6202aa-1e33-4567-bff9-4370b9a5a166",
   "metadata": {},
   "outputs": [
    {
     "name": "stdout",
     "output_type": "stream",
     "text": [
      "number of doubles: 33\n",
      "total hours to cover: 2.75\n"
     ]
    },
    {
     "data": {
      "text/plain": [
       "(33, 2.75)"
      ]
     },
     "execution_count": 4,
     "metadata": {},
     "output_type": "execute_result"
    }
   ],
   "source": [
    "tokyo_dome_volume_m3 = 1240000\n",
    "bun_volume_m3 = 250*10**(-6)\n",
    "calculate_buns_occupy_time(buns_volume=bun_volume_m3, place_volume=tokyo_dome_volume_m3)"
   ]
  },
  {
   "cell_type": "code",
   "execution_count": null,
   "id": "15f3240f-94c9-463f-8ab6-6f8a2c601ea4",
   "metadata": {},
   "outputs": [],
   "source": []
  }
 ],
 "metadata": {
  "kernelspec": {
   "display_name": "Python 3 (ipykernel)",
   "language": "python",
   "name": "python3"
  },
  "language_info": {
   "codemirror_mode": {
    "name": "ipython",
    "version": 3
   },
   "file_extension": ".py",
   "mimetype": "text/x-python",
   "name": "python",
   "nbconvert_exporter": "python",
   "pygments_lexer": "ipython3",
   "version": "3.11.5"
  }
 },
 "nbformat": 4,
 "nbformat_minor": 5
}
