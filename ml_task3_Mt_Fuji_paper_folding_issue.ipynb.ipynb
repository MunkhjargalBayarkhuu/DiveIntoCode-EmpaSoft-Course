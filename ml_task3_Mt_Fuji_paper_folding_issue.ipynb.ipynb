{
 "cells": [
  {
   "cell_type": "markdown",
   "id": "a1258c2a-f1e3-4420-9e31-1eeb240bb028",
   "metadata": {},
   "source": [
    "## [Problem 1] How many times to fold paper to exceed the height of Mt.Fuji?"
   ]
  },
  {
   "cell_type": "code",
   "execution_count": 1,
   "id": "5cdd2420-12e5-4427-bede-0af0596b41fe",
   "metadata": {},
   "outputs": [
    {
     "name": "stdout",
     "output_type": "stream",
     "text": [
      "Number of folds 26 that paper can be higher than Mt.Fuji\n"
     ]
    }
   ],
   "source": [
    "import math\n",
    "\n",
    "thickness = 0.00008\n",
    "mt_fuji_height = 3776\n",
    "\n",
    "folds = math.ceil(math.log2(mt_fuji_height/thickness))\n",
    "print(f\"Number of folds {folds} that paper can be higher than Mt.Fuji\")"
   ]
  },
  {
   "cell_type": "code",
   "execution_count": 2,
   "id": "a303607d-98c6-4e47-94d7-45b4d170e823",
   "metadata": {},
   "outputs": [
    {
     "name": "stdout",
     "output_type": "stream",
     "text": [
      "5368.70912\n"
     ]
    }
   ],
   "source": [
    "# checking \n",
    "print(thickness*(2**(folds)))"
   ]
  },
  {
   "cell_type": "markdown",
   "id": "4827bde1-9a34-4e81-b74b-3284c86c25a3",
   "metadata": {},
   "source": [
    "## [Problem 2] Function corresponding to arbitrary thickness"
   ]
  },
  {
   "cell_type": "code",
   "execution_count": 4,
   "id": "aa42ce27-1b07-435f-9553-ba4374cb9e3d",
   "metadata": {},
   "outputs": [],
   "source": [
    "def compute_number_of_fold(height, \n",
    "                           thickness = 0.00008):\n",
    "    \"\"\" \n",
    "    A function that calculates the number of folds that can be higher than a given height.\n",
    "\n",
    "    Parameteres\n",
    "    -----------\n",
    "    height: float\n",
    "        A given height of object \n",
    "    thickness: float\n",
    "        a paper thickness (default = 0.00008)\n",
    "\n",
    "    Returns\n",
    "    -------\n",
    "    minimum number of folds : int\n",
    "        The number of folds that can be higher than a given height.\n",
    "    \"\"\"\n",
    "\n",
    "    # formula \n",
    "    fold_times = 0\n",
    "    while True:\n",
    "        thickness = thickness*2\n",
    "        fold_times+=1\n",
    "        if thickness>height:\n",
    "            break\n",
    "    \n",
    "    return fold_times"
   ]
  },
  {
   "cell_type": "code",
   "execution_count": 5,
   "id": "1c9604c4-763e-4ffc-bd4c-d487736ce057",
   "metadata": {},
   "outputs": [
    {
     "name": "stdout",
     "output_type": "stream",
     "text": [
      "Number of folds =  69\n"
     ]
    }
   ],
   "source": [
    "## test \n",
    "distance_between_sun_and_earth = 4.0175*(10**16) #\"closest non-Sun star\".\n",
    "num_folds = compute_number_of_fold(height=distance_between_sun_and_earth, \n",
    "                                   thickness = 0.00008)\n",
    "\n",
    "print(\"Number of folds = \", num_folds)"
   ]
  },
  {
   "cell_type": "markdown",
   "id": "db33d4f8-01c2-45cd-9f27-b639878950de",
   "metadata": {},
   "source": [
    "## [Problem 3] Required paper length"
   ]
  },
  {
   "cell_type": "code",
   "execution_count": 6,
   "id": "f5337372-b3ed-47b5-9427-8c8d7ffb6b4d",
   "metadata": {},
   "outputs": [],
   "source": [
    "def compute_paper_length(number_of_folds, \n",
    "                         thickness = 0.00008):\n",
    "    \"\"\" \n",
    "    A function that calculates the paper length using a given number of folds.\n",
    "\n",
    "    Parameteres\n",
    "    -----------\n",
    "    number_of_folds: int\n",
    "        ## \n",
    "    thickness: float\n",
    "        a paper thickness (default = 0.00008)\n",
    "\n",
    "    Returns\n",
    "    -------\n",
    "    paper_length : float\n",
    "        #### \n",
    "    \"\"\"\n",
    "\n",
    "    # formula \n",
    "    pi = math.pi\n",
    "    paper_length = ((pi*thickness)/6)*(2**number_of_folds+4)*(2**number_of_folds-1)\n",
    "\n",
    "    return paper_length"
   ]
  },
  {
   "cell_type": "code",
   "execution_count": 7,
   "id": "1ea1d092-eadc-4094-b379-991804e2801e",
   "metadata": {},
   "outputs": [
    {
     "name": "stdout",
     "output_type": "stream",
     "text": [
      "The paper length to reach Moon = 3240919444170.78 million km.\n"
     ]
    }
   ],
   "source": [
    "### reach Moon #### \n",
    "folds = 43\n",
    "paper_length = compute_paper_length(number_of_folds=folds, \n",
    "                                    thickness = 0.00008)\n",
    "\n",
    "print(f\"The paper length to reach Moon = {round(paper_length/(1000*1000000), 2)} million km.\")"
   ]
  },
  {
   "cell_type": "code",
   "execution_count": 8,
   "id": "ff501caf-b67d-4eaa-9ed4-33e18322d39c",
   "metadata": {},
   "outputs": [
    {
     "name": "stdout",
     "output_type": "stream",
     "text": [
      "The paper length to reach Mt.Fuji = 47.16 million km.\n"
     ]
    }
   ],
   "source": [
    "### reach Mt.Fuji #### \n",
    "folds = 25\n",
    "paper_length = compute_paper_length(number_of_folds=folds, \n",
    "                                    thickness = 0.00008)\n",
    "\n",
    "print(f\"The paper length to reach Mt.Fuji = {round(paper_length/(1000*1000000), 2)} million km.\")"
   ]
  },
  {
   "cell_type": "code",
   "execution_count": 9,
   "id": "b670238c-8c48-4909-947d-6e74596471b7",
   "metadata": {},
   "outputs": [
    {
     "name": "stdout",
     "output_type": "stream",
     "text": [
      "The paper length to reach Proxima Centauri = 1.459580360110035e+28 million km.\n"
     ]
    }
   ],
   "source": [
    "### reach Proxima Centauri #### \n",
    "folds = 69\n",
    "paper_length = compute_paper_length(number_of_folds=folds, \n",
    "                                    thickness = 0.00008)\n",
    "\n",
    "print(f\"The paper length to reach Proxima Centauri = {round(paper_length/(1000*1000000), 2)} million km.\")"
   ]
  },
  {
   "cell_type": "code",
   "execution_count": null,
   "id": "5259f10b-3745-4e8d-ada9-cf2f2e0c55c7",
   "metadata": {},
   "outputs": [],
   "source": []
  }
 ],
 "metadata": {
  "kernelspec": {
   "display_name": "Python 3 (ipykernel)",
   "language": "python",
   "name": "python3"
  },
  "language_info": {
   "codemirror_mode": {
    "name": "ipython",
    "version": 3
   },
   "file_extension": ".py",
   "mimetype": "text/x-python",
   "name": "python",
   "nbconvert_exporter": "python",
   "pygments_lexer": "ipython3",
   "version": "3.11.5"
  }
 },
 "nbformat": 4,
 "nbformat_minor": 5
}
