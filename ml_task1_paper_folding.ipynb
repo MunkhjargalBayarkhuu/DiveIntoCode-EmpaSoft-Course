{
 "cells": [
  {
   "cell_type": "markdown",
   "id": "d4a36217-6250-4c76-b922-f9590999fd3f",
   "metadata": {},
   "source": [
    "# Problem 1"
   ]
  },
  {
   "cell_type": "code",
   "execution_count": 11,
   "id": "b72acf74-fd6d-45cf-b213-7d3499bb3068",
   "metadata": {},
   "outputs": [
    {
     "name": "stdout",
     "output_type": "stream",
     "text": [
      "Thickness: 0.00016 meters\n"
     ]
    }
   ],
   "source": [
    "\n",
    "#paper folded only one time\n",
    "\n",
    "THICKNESS = 0.00008\n",
    "\n",
    "folded_thickness = THICKNESS * 2\n",
    "\n",
    "print(\"Thickness: {} meters\".format(folded_thickness))"
   ]
  },
  {
   "cell_type": "code",
   "execution_count": 14,
   "id": "1d7ad08c-f6c1-4976-96f7-37a1a2dd15a2",
   "metadata": {},
   "outputs": [
    {
     "name": "stdout",
     "output_type": "stream",
     "text": [
      "Thickness: 703687441.77664 meters\n"
     ]
    }
   ],
   "source": [
    "#paper folded 43 time\n",
    "\n",
    "THICKNESS = 0.00008\n",
    "folding_times = 43\n",
    "for i in (range(folding_times)):\n",
    "    THICKNESS = THICKNESS * 2\n",
    "print(\"Thickness: {} meters\".format(THICKNESS))"
   ]
  },
  {
   "cell_type": "markdown",
   "id": "3101799b-cfeb-42bc-a742-7549486cb5bd",
   "metadata": {},
   "source": [
    "# Problem 2 Unit conversion\n"
   ]
  },
  {
   "cell_type": "code",
   "execution_count": 17,
   "id": "287b246c-58d4-4b78-94d2-7ae0e5d8851d",
   "metadata": {},
   "outputs": [
    {
     "name": "stdout",
     "output_type": "stream",
     "text": [
      "Thickness:  703687.44 kilometers\n"
     ]
    }
   ],
   "source": [
    "#print(\"Thinkness: {: .2f} ten thousends kilometers\").format(folded_thickness / (1000*10000)))\n",
    "print(\"Thickness: {: .2f} kilometers\".format(THICKNESS / 1000))"
   ]
  },
  {
   "cell_type": "markdown",
   "id": "475793fb-685c-4476-8ca1-557791ad49f4",
   "metadata": {},
   "source": [
    "# [Problem 3] Create using a for statement"
   ]
  },
  {
   "cell_type": "code",
   "execution_count": 20,
   "id": "ce5a890f-28fd-42a2-8017-f64da247ff7e",
   "metadata": {},
   "outputs": [
    {
     "name": "stdout",
     "output_type": "stream",
     "text": [
      "Thickness:  70.37 ten thousands kilometers\n"
     ]
    }
   ],
   "source": [
    "THICKNESS = 0.00008\n",
    "folding_times = 43\n",
    "\n",
    "for i in range(folding_times):\n",
    "    THICKNESS = THICKNESS * 2\n",
    "    \n",
    "print(\"Thickness: {: .2f} ten thousands kilometers\".format(THICKNESS / (1000*10000)))"
   ]
  },
  {
   "cell_type": "markdown",
   "id": "947ba55c-9b87-427b-b7e2-b3cb44516d61",
   "metadata": {},
   "source": [
    "# Problem 4"
   ]
  },
  {
   "cell_type": "code",
   "execution_count": null,
   "id": "06004421-adef-43bc-a8da-a2442fbe2698",
   "metadata": {},
   "outputs": [],
   "source": [
    "import time\n",
    "# Method 1\n",
    "start = time.time()\n",
    "###\n",
    "folded_thickness = THICJNESS * (2 ** folding_times)\n",
    "###\n",
    "elapsed_time = time.time() - start\n",
    "print (\"Execution time for method 1: {} []\").format(elapsed_time*(10**6)))"
   ]
  },
  {
   "cell_type": "code",
   "execution_count": null,
   "id": "d788212f-6abd-44f6-9a86-826823652171",
   "metadata": {},
   "outputs": [],
   "source": [
    "import time\n",
    "# Method 2\n",
    "start = time.time()\n",
    "###\n",
    "folded_thickness = THICJNESS * (2 ** folding_times)\n",
    "###\n",
    "elapsed_time = time.time() - start\n",
    "print (\"Execution time for method 2: {} []\").format(elapsed_time*(10**6)))"
   ]
  },
  {
   "cell_type": "code",
   "execution_count": 10,
   "id": "4d3552fc-c579-417a-9f67-3028f47dfb6a",
   "metadata": {},
   "outputs": [
    {
     "data": {
      "text/plain": [
       "44"
      ]
     },
     "execution_count": 10,
     "metadata": {},
     "output_type": "execute_result"
    }
   ],
   "source": [
    "THICKNESS = 0.00008\n",
    "folded_thichness = [] #create list\n",
    "folded_thichness.append(THICKNESS) #initial value\n",
    "for i in range(folding_times):\n",
    "    THICKNESS = THICKNESS * 2\n",
    "    folded_thichness.append(THICKNESS)\n",
    " \n",
    "len(folded_thichness)"
   ]
  },
  {
   "cell_type": "markdown",
   "id": "85f2efd6-df10-4d02-87ff-d2e27cc92427",
   "metadata": {},
   "source": [
    "# problem 7"
   ]
  },
  {
   "cell_type": "code",
   "execution_count": 18,
   "id": "7be88729-9691-43b2-b156-10cea0e6d6ad",
   "metadata": {},
   "outputs": [
    {
     "ename": "NameError",
     "evalue": "name 'plt' is not defined",
     "output_type": "error",
     "traceback": [
      "\u001b[1;31m---------------------------------------------------------------------------\u001b[0m",
      "\u001b[1;31mNameError\u001b[0m                                 Traceback (most recent call last)",
      "Cell \u001b[1;32mIn[18], line 1\u001b[0m\n\u001b[1;32m----> 1\u001b[0m \u001b[43mplt\u001b[49m\u001b[38;5;241m.\u001b[39mtitle(\u001b[38;5;124m\"\u001b[39m\u001b[38;5;124mthickness of folded paper\u001b[39m\u001b[38;5;124m\"\u001b[39m)\n\u001b[0;32m      2\u001b[0m plt\u001b[38;5;241m.\u001b[39mxlabel(\u001b[38;5;124m\"\u001b[39m\u001b[38;5;124mnumber of folds\u001b[39m\u001b[38;5;124m\"\u001b[39m)\n\u001b[0;32m      3\u001b[0m plt\u001b[38;5;241m.\u001b[39mylabel(\u001b[38;5;124m\"\u001b[39m\u001b[38;5;124mthickness [m]\u001b[39m\u001b[38;5;124m\"\u001b[39m)\n",
      "\u001b[1;31mNameError\u001b[0m: name 'plt' is not defined"
     ]
    }
   ],
   "source": [
    "plt.title(\"thickness of folded paper\")\n",
    "plt.xlabel(\"number of folds\")\n",
    "plt.ylabel(\"thickness [m]\")\n",
    "plt.tick_params(labelsize=20)\n",
    "plt.plot(folded_thickness, color='green', linewidth=0.5, linestyle=':')\n",
    "plt.show()"
   ]
  },
  {
   "cell_type": "code",
   "execution_count": null,
   "id": "99356566-aee9-4188-8c32-6eff3f99f106",
   "metadata": {},
   "outputs": [],
   "source": []
  }
 ],
 "metadata": {
  "kernelspec": {
   "display_name": "Python 3 (ipykernel)",
   "language": "python",
   "name": "python3"
  },
  "language_info": {
   "codemirror_mode": {
    "name": "ipython",
    "version": 3
   },
   "file_extension": ".py",
   "mimetype": "text/x-python",
   "name": "python",
   "nbconvert_exporter": "python",
   "pygments_lexer": "ipython3",
   "version": "3.10.11"
  }
 },
 "nbformat": 4,
 "nbformat_minor": 5
}
