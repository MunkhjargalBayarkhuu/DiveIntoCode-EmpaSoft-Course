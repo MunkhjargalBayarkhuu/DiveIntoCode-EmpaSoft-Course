{
 "cells": [
  {
   "cell_type": "code",
   "execution_count": 1,
   "id": "d3da3848-d9e1-479e-9281-c7fff3e770af",
   "metadata": {},
   "outputs": [],
   "source": [
    "import pandas as pd\n",
    "import numpy as np\n",
    "from sklearn.metrics import mean_squared_error\n",
    "from sklearn.linear_model import LinearRegression\n",
    "from sklearn.svm import SVR\n",
    "from sklearn.tree import DecisionTreeRegressor\n",
    "from sklearn.ensemble import RandomForestRegressor\n",
    "from sklearn.model_selection import train_test_split"
   ]
  },
  {
   "cell_type": "code",
   "execution_count": 2,
   "id": "19cc45d3-de5f-4fb4-a77d-92503959c155",
   "metadata": {},
   "outputs": [],
   "source": [
    "#data"
   ]
  },
  {
   "cell_type": "code",
   "execution_count": 3,
   "id": "78800fc5-858d-4a12-a6af-b7ebb86471f4",
   "metadata": {},
   "outputs": [],
   "source": [
    "train_df = pd.read_csv('data/train.csv')"
   ]
  },
  {
   "cell_type": "code",
   "execution_count": 4,
   "id": "448e794a-2419-4056-9282-9cc981a027b3",
   "metadata": {},
   "outputs": [],
   "source": [
    "input_cols = ['GrLivArea', 'YearBuilt']\n",
    "target = 'SalePrice'\n",
    "train_df[target] = np.log(train_df[target])"
   ]
  },
  {
   "cell_type": "code",
   "execution_count": 5,
   "id": "26cc72e8-70d8-45d5-9892-317481f55f22",
   "metadata": {},
   "outputs": [],
   "source": [
    "train_set, test_set = train_test_split(train_df, test_size=0.2,\n",
    "                                       shuffle=True, random_state=42)"
   ]
  },
  {
   "cell_type": "markdown",
   "id": "245cef3e-a432-430d-b503-a7b38ccdc27a",
   "metadata": {},
   "source": [
    "### model training"
   ]
  },
  {
   "cell_type": "code",
   "execution_count": 6,
   "id": "d6488ca7-4e90-433c-bbff-b70f26ebfabd",
   "metadata": {},
   "outputs": [],
   "source": [
    "metrics = {'linear_reg':[],\n",
    "           'svr':[],\n",
    "           'dt':[]}\n",
    "\n",
    "models = [LinearRegression(), DecisionTreeRegressor(), SVR()]\n",
    "\n",
    "model_names = ['linear_reg', 'svr', 'dt',]\n",
    "preds = {}\n",
    "oofs = []\n",
    "for name, model in zip(model_names, models):\n",
    "    reg = model.fit(train_set[input_cols], train_set[target])\n",
    "    oofs.append(reg.predict(train_set[input_cols]))\n",
    "    pred = reg.predict(test_set[input_cols])\n",
    "    score = mean_squared_error(test_set[target], pred)\n",
    "    metrics[name].append(score)\n",
    "    preds[name] = pred"
   ]
  },
  {
   "cell_type": "code",
   "execution_count": 7,
   "id": "0b84eeef-5e15-49ab-a96f-9cbbf71616ab",
   "metadata": {},
   "outputs": [
    {
     "name": "stdout",
     "output_type": "stream",
     "text": [
      "Model linear_reg: 0.052\n",
      "Model svr: 0.063\n",
      "Model dt: 0.054\n"
     ]
    }
   ],
   "source": [
    "#### result ####\n",
    "for name in metrics.keys():\n",
    "    print(f'Model {name}:', np.round(np.mean(metrics[name]), 3))"
   ]
  },
  {
   "cell_type": "markdown",
   "id": "d6a046b2-e167-4ad7-bd66-8eedb214fda7",
   "metadata": {},
   "source": [
    "### Ensemble"
   ]
  },
  {
   "cell_type": "code",
   "execution_count": 9,
   "id": "e56afc37-960b-4b56-8e7d-bcebd5fcf441",
   "metadata": {},
   "outputs": [
    {
     "name": "stdout",
     "output_type": "stream",
     "text": [
      "Blending: 0.048\n"
     ]
    }
   ],
   "source": [
    "### blending ####\n",
    "weights = [0.4, 0.2, 0.4]\n",
    "\n",
    "final_pred = None\n",
    "for i, name in enumerate(model_names):\n",
    "    if i==0:\n",
    "        final_pred = weights[i]*preds[name]\n",
    "    else:\n",
    "        final_pred = final_pred + weights[i]*preds[name]\n",
    "\n",
    "score = mean_squared_error(test_set[target], final_pred)\n",
    "print(f'Blending:', np.round(np.mean(score), 3))"
   ]
  },
  {
   "cell_type": "markdown",
   "id": "42663572-e953-4a7e-8d41-88124905bdc5",
   "metadata": {},
   "source": [
    "### Stacked Ensemble"
   ]
  },
  {
   "cell_type": "code",
   "execution_count": 10,
   "id": "cd146cee-066e-4bc2-ad38-d4b4dc514d29",
   "metadata": {},
   "outputs": [
    {
     "name": "stdout",
     "output_type": "stream",
     "text": [
      "Stacking: 0.063\n"
     ]
    }
   ],
   "source": [
    "### stacking ####\n",
    "stacking_model = LinearRegression()\n",
    "X_pred = np.asarray(oofs).T\n",
    "X_test_pred = np.zeros((test_set.shape[0], 3))\n",
    "for i, name in enumerate(model_names):\n",
    "    X_test_pred[:, i] = preds[name]\n",
    "\n",
    "reg = stacking_model.fit(X_pred, train_set[target])\n",
    "pred_stack = reg.predict(X_test_pred)\n",
    "\n",
    "score = mean_squared_error(test_set[target], pred_stack)\n",
    "print(f'Stacking:', np.round(np.mean(score), 3))"
   ]
  },
  {
   "cell_type": "code",
   "execution_count": 11,
   "id": "8ddde2c8-819d-40a4-98a5-44235e18c685",
   "metadata": {},
   "outputs": [],
   "source": [
    "# ensemble \n",
    "#### bagging ###\n",
    "bagging = 5\n",
    "\n",
    "metrics = {'linear_reg': [],\n",
    "           'svr': [],\n",
    "           'dt': []}\n",
    "\n",
    "models = [LinearRegression(), DecisionTreeRegressor(),   SVR()]\n",
    "model_names = ['linear_reg', 'svr', 'dt', ]\n",
    "preds = {}\n",
    "\n",
    "for i in range(bagging):\n",
    "    frac = np.random.randint(80, 90)\n",
    "    train_ = train_set.sample(int(train_set.shape[0]*frac/100))\n",
    "    for name, model in zip(model_names, models):\n",
    "        reg = model.fit(train_[input_cols], train_[target])\n",
    "        pred = reg.predict(test_set[input_cols])\n",
    "        score = mean_squared_error(test_set[target], pred)\n",
    "        metrics[name].append(score)\n",
    "        if i==0:\n",
    "            preds[name] = pred/bagging\n",
    "        else:\n",
    "            preds[name] += pred / bagging"
   ]
  },
  {
   "cell_type": "code",
   "execution_count": 12,
   "id": "bbf50825-5591-4c45-b4bd-1abe748cbf40",
   "metadata": {},
   "outputs": [
    {
     "name": "stdout",
     "output_type": "stream",
     "text": [
      "Model linear_reg: 0.052\n",
      "Model svr: 0.071\n",
      "Model dt: 0.055\n",
      "Bagging and Blending: 0.049\n"
     ]
    }
   ],
   "source": [
    "#### result ####\n",
    "for name in metrics.keys():\n",
    "    print(f'Model {name}:', np.round(np.mean(metrics[name]), 3))\n",
    "\n",
    "weights = [0.4, 0.2, 0.4]\n",
    "\n",
    "final_pred = None\n",
    "for i, name in enumerate(model_names):\n",
    "    if i==0:\n",
    "        final_pred = weights[i]*preds[name]\n",
    "    else:\n",
    "        final_pred = final_pred + weights[i]*preds[name]\n",
    "\n",
    "score = mean_squared_error(test_set[target], final_pred)\n",
    "print(f'Bagging and Blending:', np.round(np.mean(score), 3))"
   ]
  },
  {
   "cell_type": "code",
   "execution_count": null,
   "id": "ed517d8c-1fb3-4e31-a3d4-271cc49cabf1",
   "metadata": {},
   "outputs": [],
   "source": []
  }
 ],
 "metadata": {
  "kernelspec": {
   "display_name": "Python 3 (ipykernel)",
   "language": "python",
   "name": "python3"
  },
  "language_info": {
   "codemirror_mode": {
    "name": "ipython",
    "version": 3
   },
   "file_extension": ".py",
   "mimetype": "text/x-python",
   "name": "python",
   "nbconvert_exporter": "python",
   "pygments_lexer": "ipython3",
   "version": "3.11.5"
  }
 },
 "nbformat": 4,
 "nbformat_minor": 5
}
