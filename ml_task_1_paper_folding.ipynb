{
 "cells": [
  {
   "cell_type": "markdown",
   "id": "13eaec90-bc08-42e1-a7ed-11ce3d027bc7",
   "metadata": {},
   "source": [
    "## [Problem 1] Implementation using exponentiation arithmetic operators"
   ]
  },
  {
   "cell_type": "code",
   "execution_count": 2,
   "id": "76c493a0-f568-465b-a781-997a351be4b6",
   "metadata": {},
   "outputs": [
    {
     "name": "stdout",
     "output_type": "stream",
     "text": [
      "Thickness: 0.00016 meters\n"
     ]
    }
   ],
   "source": [
    "# paper folded only one time\n",
    "THICKNESS = 0.00008\n",
    "folded_thickness = THICKNESS * 2\n",
    "print(\"Thickness: {} meters\".format(folded_thickness))"
   ]
  },
  {
   "cell_type": "code",
   "execution_count": 5,
   "id": "53dbece6-55b3-41f9-a7b2-d80be1e1e041",
   "metadata": {},
   "outputs": [
    {
     "name": "stdout",
     "output_type": "stream",
     "text": [
      "Thickness: 703687441.77664 meters\n"
     ]
    }
   ],
   "source": [
    "# paper folded 43 times\n",
    "THICKNESS = 0.00008\n",
    "folding_times = 43\n",
    "\n",
    "folded_thickness = THICKNESS * (2 ** folding_times)\n",
    "print(\"Thickness: {} meters\".format(folded_thickness))"
   ]
  },
  {
   "cell_type": "markdown",
   "id": "689dd7c4-54cf-4dd4-b813-4c04fbbbbb7a",
   "metadata": {},
   "source": [
    "## [Problem 2] Unit Conversion"
   ]
  },
  {
   "cell_type": "code",
   "execution_count": 9,
   "id": "43e0d782-ca42-407e-9a2f-0ccd13c33202",
   "metadata": {},
   "outputs": [
    {
     "name": "stdout",
     "output_type": "stream",
     "text": [
      "Thickness:  70.37 ten thousands kilometers\n"
     ]
    }
   ],
   "source": [
    "# Convert meters to 10000 kilometers and display with two decimal places\n",
    "print(\"Thickness: {: .2f} ten thousands kilometers\".format(folded_thickness / (1000*10000)))"
   ]
  },
  {
   "cell_type": "markdown",
   "id": "88b0eef6-1d06-438c-b714-bb941ebaf30e",
   "metadata": {},
   "source": [
    "## [Problem 3] Create using a for statement"
   ]
  },
  {
   "cell_type": "code",
   "execution_count": 12,
   "id": "b5a23823-d8ae-4d0e-bee2-a4821f1707b7",
   "metadata": {},
   "outputs": [
    {
     "name": "stdout",
     "output_type": "stream",
     "text": [
      "Thickness:  70.37 ten thousands kilometers\n"
     ]
    }
   ],
   "source": [
    "# paper folded 43 times\n",
    "THICKNESS = 0.00008\n",
    "folding_times = 43\n",
    "\n",
    "for i in range(folding_times):\n",
    "    THICKNESS = THICKNESS * 2\n",
    "    \n",
    "print(\"Thickness: {: .2f} ten thousands kilometers\".format(THICKNESS / (1000*10000)))"
   ]
  },
  {
   "cell_type": "markdown",
   "id": "6f68d30b-2bba-487e-ae4c-0d70570c10a6",
   "metadata": {},
   "source": [
    "## [Problem 4] Comparison of calculation time"
   ]
  },
  {
   "cell_type": "code",
   "execution_count": 13,
   "id": "635f6da5-178f-4310-92e1-f4fc8010b462",
   "metadata": {},
   "outputs": [],
   "source": [
    "import time"
   ]
  },
  {
   "cell_type": "code",
   "execution_count": 28,
   "id": "aa0ef4e6-c0b7-485e-905f-379320c2d98c",
   "metadata": {},
   "outputs": [
    {
     "name": "stdout",
     "output_type": "stream",
     "text": [
      "Execution time for method 1: 0.0 [s]\n"
     ]
    }
   ],
   "source": [
    "# Method 1\n",
    "start = time.time()\n",
    "#####\n",
    "THICKNESS = 0.00008\n",
    "folded_thickness = THICKNESS * (2 ** folding_times)\n",
    "#####\n",
    "elapsed_time = time.time() - start\n",
    "print(\"Execution time for method 1: {} [s]\".format(elapsed_time*(10**6)))"
   ]
  },
  {
   "cell_type": "code",
   "execution_count": 29,
   "id": "4a86aa24-b8e4-4b43-a948-f5f337455e06",
   "metadata": {},
   "outputs": [
    {
     "name": "stdout",
     "output_type": "stream",
     "text": [
      "Execution time for method 2: 0.0 [s]\n"
     ]
    }
   ],
   "source": [
    "# Method 2\n",
    "start = time.time()\n",
    "#####\n",
    "THICKNESS = 0.00008\n",
    "for i in range(folding_times):\n",
    "    THICKNESS = THICKNESS * 2\n",
    "#####\n",
    "elapsed_time = time.time() - start\n",
    "print(\"Execution time for method 2: {} [s]\".format(elapsed_time*(10**6)))"
   ]
  },
  {
   "cell_type": "code",
   "execution_count": 30,
   "id": "dcc3c845-226e-4d31-8192-ac103870bf4f",
   "metadata": {},
   "outputs": [
    {
     "name": "stdout",
     "output_type": "stream",
     "text": [
      "711 ns ± 126 ns per loop (mean ± std. dev. of 7 runs, 1,000,000 loops each)\n"
     ]
    }
   ],
   "source": [
    "%%timeit\n",
    "THICKNESS = 0.00008\n",
    "folded_thickness = THICKNESS * (2 ** folding_times)"
   ]
  },
  {
   "cell_type": "code",
   "execution_count": 31,
   "id": "b051d146-78d0-4fa7-baca-9dc97a44d659",
   "metadata": {},
   "outputs": [
    {
     "name": "stdout",
     "output_type": "stream",
     "text": [
      "3.24 µs ± 125 ns per loop (mean ± std. dev. of 7 runs, 100,000 loops each)\n"
     ]
    }
   ],
   "source": [
    "%%timeit\n",
    "THICKNESS = 0.00008\n",
    "for i in range(folding_times):\n",
    "    THICKNESS = THICKNESS * 2"
   ]
  },
  {
   "cell_type": "markdown",
   "id": "e3aecc87-cf6d-4dcf-a532-bfca6eea0100",
   "metadata": {},
   "source": [
    "# [Problem 5] Saving to a list"
   ]
  },
  {
   "cell_type": "code",
   "execution_count": 33,
   "id": "86f9bbde-87d6-40b4-9ef0-12e805604f1d",
   "metadata": {},
   "outputs": [
    {
     "data": {
      "text/plain": [
       "44"
      ]
     },
     "execution_count": 33,
     "metadata": {},
     "output_type": "execute_result"
    }
   ],
   "source": [
    "THICKNESS = 0.00008\n",
    "folded_thichness = [] #create list\n",
    "folded_thichness.append(THICKNESS) #initial value\n",
    "for i in range(folding_times):\n",
    "    THICKNESS = THICKNESS * 2\n",
    "    folded_thichness.append(THICKNESS)\n",
    "\n",
    "len(folded_thichness)"
   ]
  },
  {
   "cell_type": "markdown",
   "id": "79117400-d69b-4162-95ac-b7817583645e",
   "metadata": {},
   "source": [
    "# [Problem 6] Displaying a line graph"
   ]
  },
  {
   "cell_type": "code",
   "execution_count": 34,
   "id": "6cc71e8f-1a72-48e6-9c91-b7cc3d3dbda8",
   "metadata": {},
   "outputs": [],
   "source": [
    "import matplotlib.pyplot as plt\n",
    "%matplotlib inline"
   ]
  },
  {
   "cell_type": "code",
   "execution_count": 35,
   "id": "587cde90-0b0d-45a5-9025-1dd1c8191fce",
   "metadata": {},
   "outputs": [
    {
     "data": {
      "image/png": "[encoded data removed]",
      "text/plain": [
       "<Figure size 640x480 with 1 Axes>"
      ]
     },
     "metadata": {},
     "output_type": "display_data"
    }
   ],
   "source": [
    "# Display the graph. Title and axis label name.\n",
    "plt.title(\"thickness of folded paper\")\n",
    "plt.xlabel(\"number of folds\")\n",
    "plt.ylabel(\"thickness [m]\")\n",
    "plt.plot(folded_thichness)  # Enter the variable name of the list in \"List name\"\n",
    "plt.show()"
   ]
  },
  {
   "cell_type": "markdown",
   "id": "54149048-de89-4cbd-98b0-eecbfb23b8df",
   "metadata": {},
   "source": [
    "# [Problem 7] Customizing graphs"
   ]
  },
  {
   "cell_type": "code",
   "execution_count": 42,
   "id": "e15a2704-26e9-4a73-98f2-079ee908d18c",
   "metadata": {},
   "outputs": [
    {
     "data": {
      "image/png": "[encoded data removed]",
      "text/plain": [
       "<Figure size 640x480 with 1 Axes>"
      ]
     },
     "metadata": {},
     "output_type": "display_data"
    }
   ],
   "source": [
    "# Display a red line graph.\n",
    "plt.title(\"thickness of folded paper\", fontsize=30)\n",
    "plt.xlabel(\"number of folds\", fontsize=20)\n",
    "plt.ylabel(\"thickness [m]\", fontsize=20)\n",
    "plt.plot(folded_thichness, color='green', linewidth=0.7, linestyle=':')\n",
    "plt.tick_params(labelsize=20)\n",
    "plt.show()"
   ]
  },
  {
   "cell_type": "code",
   "execution_count": null,
   "id": "84caf07a-448f-479b-adc9-04995e5094e0",
   "metadata": {},
   "outputs": [],
   "source": []
  }
 ],
 "metadata": {
  "kernelspec": {
   "display_name": "Python 3 (ipykernel)",
   "language": "python",
   "name": "python3"
  },
  "language_info": {
   "codemirror_mode": {
    "name": "ipython",
    "version": 3
   },
   "file_extension": ".py",
   "mimetype": "text/x-python",
   "name": "python",
   "nbconvert_exporter": "python",
   "pygments_lexer": "ipython3",
   "version": "3.10.11"
  }
 },
 "nbformat": 4,
 "nbformat_minor": 5
}
