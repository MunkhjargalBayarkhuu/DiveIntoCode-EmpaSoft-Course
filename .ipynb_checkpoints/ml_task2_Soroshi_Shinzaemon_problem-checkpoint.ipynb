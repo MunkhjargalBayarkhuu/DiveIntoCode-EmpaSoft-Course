{
 "cells": [
  {
   "cell_type": "markdown",
   "id": "c4517e07-806c-4cd7-ab30-96020e244576",
   "metadata": {},
   "source": [
    "# 【Problem 1] Number of grains of rice on the 100th day DONE"
   ]
  },
  {
   "cell_type": "code",
   "execution_count": 2,
   "id": "ea68bbb1-3b52-4467-a086-2662d77b9262",
   "metadata": {},
   "outputs": [
    {
     "name": "stdout",
     "output_type": "stream",
     "text": [
      "Number of rice on 100th day: 1267650600228229401496703205376\n"
     ]
    },
    {
     "data": {
      "image/png": "[encoded data removed]",
      "text/plain": [
       "<Figure size 640x480 with 1 Axes>"
      ]
     },
     "metadata": {},
     "output_type": "display_data"
    }
   ],
   "source": [
    "import matplotlib.pyplot as plt\n",
    "\n",
    "rice_count = 1\n",
    "number_of_days = 100\n",
    "number_of_rice = [] # create list\n",
    "number_of_rice.append(rice_count) #initial rice count\n",
    "\n",
    "### for loop ##\n",
    "for day in range(number_of_days):\n",
    "    rice_count = rice_count*2\n",
    "    number_of_rice.append(rice_count)\n",
    "\n",
    "print(\"Number of rice on 100th day:\", number_of_rice[-1])\n",
    "\n",
    "### graph \n",
    "# Display the graph. Title and axis label name.\n",
    "plt.title(\"Cumulative number of rice\")\n",
    "plt.xlabel(\"Number of days\")\n",
    "plt.ylabel(\"Number of rice\")\n",
    "plt.plot(number_of_rice)  # Enter the variable name of the list in \"List name\"\n",
    "plt.show()"
   ]
  },
  {
   "cell_type": "markdown",
   "id": "68d5ef45-d584-4bf5-af89-99183f13a657",
   "metadata": {},
   "source": [
    "# 【Problem 2] Number of rice grains outside of the 100th day"
   ]
  },
  {
   "cell_type": "code",
   "execution_count": 4,
   "id": "5310a600-1106-43ad-88e0-11ff0639f7b0",
   "metadata": {},
   "outputs": [],
   "source": [
    "def compute_sorori_shinzaemon(n_days=100):\n",
    "    \"\"\" \n",
    "    A function that calculates the number of rice grains per day in the rice anecdote of Shinzaemon Sorori.\n",
    "\n",
    "    Parameteres\n",
    "    -----------\n",
    "    n_days: int\n",
    "        Number of days to get rice (default : 100)\n",
    "\n",
    "    Returns\n",
    "    -------\n",
    "    list_n_grains : list\n",
    "        List of the number of rice you get one day (list length equals n_days)\n",
    "    list_total_grains : list\n",
    "        List of total number of rice received by a certain day (list length is equal to n_days)\n",
    "    \"\"\"\n",
    "\n",
    "    ### for loop ##\n",
    "    rice_count = 1 \n",
    "    list_n_grains = []\n",
    "    list_total_grains = []\n",
    "    \n",
    "    for day in range(n_days):\n",
    "        list_n_grains.append(rice_count) #daily rice grains\n",
    "        rice_count = rice_count*2\n",
    "        list_total_grains.append(rice_count) #cumulative rice grains\n",
    "        \n",
    "    return list_n_grains, list_total_grains"
   ]
  },
  {
   "cell_type": "code",
   "execution_count": 6,
   "id": "351a7f0a-70ae-409b-84ef-19fc0d1ead71",
   "metadata": {},
   "outputs": [],
   "source": [
    "list_n_grains, list_total_grains = compute_sorori_shinzaemon(n_days=10)"
   ]
  },
  {
   "cell_type": "markdown",
   "id": "7dcfbc0a-32d1-4fc8-b43d-4b610159f319",
   "metadata": {},
   "source": [
    "# 【Problem 3] How many people can live for how many days with the rice we get?"
   ]
  },
  {
   "cell_type": "markdown",
   "id": "d687a5cc-0685-4d0a-9b69-c6b3e5672a69",
   "metadata": {},
   "source": [
    "According to the United Nations' World Food Program, 19,200 grains of rice, or 400 grams, can feed one adult for a day. A standard serving of rice is half a cup for a side dish or one cup as a main dish per person. Source: # https://boydhampers.com/blogs/guides/serving-size-of-rice#:~:text=A%20standard%20serving%20of%20rice%20is%20usually,cup%20as%20a%20main%20dish%20per%20person."
   ]
  },
  {
   "cell_type": "code",
   "execution_count": 9,
   "id": "b17440c7-7e66-4ade-a00c-ec245331ab50",
   "metadata": {},
   "outputs": [],
   "source": [
    "def compute_number_days(number_of_rice, \n",
    "                        number_of_people, \n",
    "                        daily_usage = 19200):\n",
    "    \"\"\" \n",
    "    A function that calculates the number of days based on number of rice grains and number of people.\n",
    "    Daily usage of rice grain is equal 19200 for adult person \n",
    "\n",
    "    Parameteres\n",
    "    -----------\n",
    "    number_of_rice: int\n",
    "        Total number of rice grains \n",
    "    number_of_people: int\n",
    "        Total number of people to eat rice grains\n",
    "    daily_usage: int\n",
    "        Daily usage of rice grain for adult person (default=19200)\n",
    "\n",
    "    Returns\n",
    "    -------\n",
    "    number_of_days_to_live : int\n",
    "        The number of days to live using a given number of rice grains\n",
    "    \"\"\"\n",
    "\n",
    "    # formula \n",
    "    total_usage_for_all_people = number_of_people*daily_usage\n",
    "    number_of_days_to_live = int(number_of_rice/total_usage_for_all_people)\n",
    "\n",
    "    return number_of_days_to_live"
   ]
  },
  {
   "cell_type": "code",
   "execution_count": 10,
   "id": "c8fd0124-2880-4dcc-abaa-4d7f7e9487de",
   "metadata": {},
   "outputs": [
    {
     "name": "stdout",
     "output_type": "stream",
     "text": [
      "The 10 can live 5 days eating 1048576.\n"
     ]
    }
   ],
   "source": [
    "### test \n",
    "number_of_rice = 2**20\n",
    "number_people = 10\n",
    "number_of_days = compute_number_days(number_of_rice=number_of_rice, \n",
    "                                     number_of_people=number_people, \n",
    "                                     daily_usage = 19200)\n",
    "\n",
    "print(f\"The {number_people} can live {number_of_days} days eating {number_of_rice}.\")"
   ]
  },
  {
   "cell_type": "code",
   "execution_count": null,
   "id": "647c9fb9-01ff-414f-8973-10b1232558f0",
   "metadata": {},
   "outputs": [],
   "source": []
  }
 ],
 "metadata": {
  "kernelspec": {
   "display_name": "Python 3 (ipykernel)",
   "language": "python",
   "name": "python3"
  },
  "language_info": {
   "codemirror_mode": {
    "name": "ipython",
    "version": 3
   },
   "file_extension": ".py",
   "mimetype": "text/x-python",
   "name": "python",
   "nbconvert_exporter": "python",
   "pygments_lexer": "ipython3",
   "version": "3.11.5"
  }
 },
 "nbformat": 4,
 "nbformat_minor": 5
}
