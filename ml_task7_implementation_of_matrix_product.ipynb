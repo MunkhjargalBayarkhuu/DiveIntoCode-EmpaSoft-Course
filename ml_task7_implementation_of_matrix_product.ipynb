{
 "cells": [
  {
   "cell_type": "markdown",
   "id": "f1a64ef6-79fb-492e-ae80-00ccd1b4c28a",
   "metadata": {},
   "source": [
    "## [Problem 1] Matrix product is calculated manually"
   ]
  },
  {
   "cell_type": "code",
   "execution_count": 5,
   "id": "eeb04402-4dfc-4d92-ab27-b00ea1cd17c0",
   "metadata": {},
   "outputs": [],
   "source": [
    "import numpy as np"
   ]
  },
  {
   "cell_type": "code",
   "execution_count": 6,
   "id": "0df21e53-36ca-4a88-89de-2e2279fe8dad",
   "metadata": {},
   "outputs": [],
   "source": [
    "a_ndarray = np.array([[-1, 2, 3], [4, -5, 6], [7, 8, -9]])\n",
    "b_ndarray = np.array([[0, 2, 1], [0, 2, -8], [2, 9, -1]])"
   ]
  },
  {
   "cell_type": "code",
   "execution_count": 9,
   "id": "782aaed0-1d76-46e6-9611-610f3bd780a1",
   "metadata": {},
   "outputs": [
    {
     "data": {
      "text/plain": [
       "array([[-1,  2,  3],\n",
       "       [ 4, -5,  6],\n",
       "       [ 7,  8, -9]])"
      ]
     },
     "execution_count": 9,
     "metadata": {},
     "output_type": "execute_result"
    }
   ],
   "source": [
    "a_ndarray"
   ]
  },
  {
   "cell_type": "code",
   "execution_count": 10,
   "id": "7120dca9-0a6f-4de3-a72f-81bcf2341e85",
   "metadata": {},
   "outputs": [
    {
     "data": {
      "text/plain": [
       "array([[ 0,  2,  1],\n",
       "       [ 0,  2, -8],\n",
       "       [ 2,  9, -1]])"
      ]
     },
     "execution_count": 10,
     "metadata": {},
     "output_type": "execute_result"
    }
   ],
   "source": [
    "b_ndarray"
   ]
  },
  {
   "cell_type": "code",
   "execution_count": 11,
   "id": "8a836f58-1a4a-4c9d-abde-d99a14633540",
   "metadata": {},
   "outputs": [],
   "source": [
    "ab_mult = np.zeros((a_ndarray.shape[0], b_ndarray.shape[1]))"
   ]
  },
  {
   "cell_type": "code",
   "execution_count": 12,
   "id": "bb9d5d9a-e209-44da-a835-70f06fa13f01",
   "metadata": {},
   "outputs": [
    {
     "data": {
      "text/plain": [
       "array([[  6.,  29., -20.],\n",
       "       [ 12.,  52.,  38.],\n",
       "       [-18., -51., -48.]])"
      ]
     },
     "execution_count": 12,
     "metadata": {},
     "output_type": "execute_result"
    }
   ],
   "source": [
    "for i in range(a_ndarray.shape[0]):\n",
    "    for j in range(b_ndarray.shape[1]):\n",
    "        ab_mult[i, j] = np.sum(a_ndarray[i, :]*b_ndarray[:, j])\n",
    "\n",
    "ab_mult"
   ]
  },
  {
   "cell_type": "code",
   "execution_count": 13,
   "id": "738044de-5c7e-4103-85cd-2e3a7f26d052",
   "metadata": {},
   "outputs": [],
   "source": [
    "# The element of the matrix to be multiplied is:\n",
    "# the row elements of the matrix multiplied by the elements of the next matrix column and added together."
   ]
  },
  {
   "cell_type": "code",
   "execution_count": 14,
   "id": "709cf768-b526-48d5-994e-8e9c852a85f0",
   "metadata": {},
   "outputs": [],
   "source": [
    "#checking"
   ]
  },
  {
   "cell_type": "code",
   "execution_count": 15,
   "id": "89e0dc3e-3044-4baa-8440-0a6a615ca1a6",
   "metadata": {},
   "outputs": [
    {
     "data": {
      "text/plain": [
       "6"
      ]
     },
     "execution_count": 15,
     "metadata": {},
     "output_type": "execute_result"
    }
   ],
   "source": [
    "-1*0 + 2*0 + 3*2"
   ]
  },
  {
   "cell_type": "code",
   "execution_count": 16,
   "id": "57a44f2a-35e4-44d0-9984-275fe2642994",
   "metadata": {},
   "outputs": [
    {
     "data": {
      "text/plain": [
       "33"
      ]
     },
     "execution_count": 16,
     "metadata": {},
     "output_type": "execute_result"
    }
   ],
   "source": [
    "1*2 + 2*2 + 3*9"
   ]
  },
  {
   "cell_type": "code",
   "execution_count": 17,
   "id": "ba4f41fe-691d-41e5-bc4d-367b61775099",
   "metadata": {},
   "outputs": [
    {
     "data": {
      "text/plain": [
       "-20"
      ]
     },
     "execution_count": 17,
     "metadata": {},
     "output_type": "execute_result"
    }
   ],
   "source": [
    "-1*1 + 2*-8 + 3*-1"
   ]
  },
  {
   "cell_type": "code",
   "execution_count": 18,
   "id": "bb29a4df-94e0-4825-bc26-16f291e6b659",
   "metadata": {},
   "outputs": [
    {
     "data": {
      "text/plain": [
       "12"
      ]
     },
     "execution_count": 18,
     "metadata": {},
     "output_type": "execute_result"
    }
   ],
   "source": [
    "4*0 + -5*0 + 6*2"
   ]
  },
  {
   "cell_type": "code",
   "execution_count": 19,
   "id": "f711115e-e0a1-40b7-bbda-44836b4444a1",
   "metadata": {},
   "outputs": [],
   "source": [
    "# etc"
   ]
  },
  {
   "cell_type": "markdown",
   "id": "312a639c-04fa-49cf-859a-57f6284f8b18",
   "metadata": {},
   "source": [
    "## [Problem 2] Calculation by NumPy function"
   ]
  },
  {
   "cell_type": "code",
   "execution_count": 20,
   "id": "afd844fd-838b-45cb-a897-53f3e5762265",
   "metadata": {},
   "outputs": [
    {
     "data": {
      "text/plain": [
       "array([[  6,  29, -20],\n",
       "       [ 12,  52,  38],\n",
       "       [-18, -51, -48]])"
      ]
     },
     "execution_count": 20,
     "metadata": {},
     "output_type": "execute_result"
    }
   ],
   "source": [
    "ab_matmul = np.matmul(a_ndarray, b_ndarray)\n",
    "ab_matmul"
   ]
  },
  {
   "cell_type": "code",
   "execution_count": 21,
   "id": "ac25b5bd-6706-49a3-997a-1691dbdd73d7",
   "metadata": {},
   "outputs": [
    {
     "data": {
      "text/plain": [
       "array([[  6,  29, -20],\n",
       "       [ 12,  52,  38],\n",
       "       [-18, -51, -48]])"
      ]
     },
     "execution_count": 21,
     "metadata": {},
     "output_type": "execute_result"
    }
   ],
   "source": [
    "ab_dot = np.dot(a_ndarray, b_ndarray)\n",
    "ab_dot"
   ]
  },
  {
   "cell_type": "code",
   "execution_count": 22,
   "id": "fcf17aea-0285-4f25-9496-81116d9d27f1",
   "metadata": {},
   "outputs": [
    {
     "data": {
      "text/plain": [
       "array([[  6,  29, -20],\n",
       "       [ 12,  52,  38],\n",
       "       [-18, -51, -48]])"
      ]
     },
     "execution_count": 22,
     "metadata": {},
     "output_type": "execute_result"
    }
   ],
   "source": [
    "ab_at = a_ndarray@b_ndarray\n",
    "ab_at"
   ]
  },
  {
   "cell_type": "markdown",
   "id": "85d0a2f1-8c51-4274-9c9d-acf60ae8577a",
   "metadata": {},
   "source": [
    "## [Problem 3] Implementation of calculation of a certain element"
   ]
  },
  {
   "cell_type": "code",
   "execution_count": 24,
   "id": "e56d82e6-147a-4493-987a-5ca891548cb6",
   "metadata": {},
   "outputs": [
    {
     "data": {
      "text/plain": [
       "array([[  6.,  29., -20.],\n",
       "       [ 12.,  52.,  38.],\n",
       "       [-18., -51., -48.]])"
      ]
     },
     "execution_count": 24,
     "metadata": {},
     "output_type": "execute_result"
    }
   ],
   "source": [
    "a = a_ndarray\n",
    "b = b_ndarray\n",
    "ab_mult = np.zeros((a.shape[0], b.shape[1]))\n",
    "\n",
    "for i in range(a.shape[0]):\n",
    "    for j in range(b.shape[1]):\n",
    "        for k in range(b.shape[0]):\n",
    "            ab_mult[i][j] += a[i][k] * b[k][j]\n",
    "\n",
    "ab_mult"
   ]
  },
  {
   "cell_type": "markdown",
   "id": "940ecb4a-0dae-4437-82e0-b67b346b0e54",
   "metadata": {},
   "source": [
    "## [Problem 4] Creating a function that performs matrix multiplication"
   ]
  },
  {
   "cell_type": "code",
   "execution_count": 25,
   "id": "bb885b5f-2c16-4546-ab7e-613d35311ad5",
   "metadata": {},
   "outputs": [],
   "source": [
    "def matrix_multiplication(a, b):\n",
    "\n",
    "    # This is explanation of matrix multiplication function.\n",
    "    \n",
    "    # We have three matrices: a , b and ab_mult\n",
    "    # i, j and k indices are representing rows and columns in these matrices\n",
    "    # The expression ab_mult[i][j] represents the element in the i-th row and j-th column of the resulting matrix ab_mult\n",
    "    # ab_mult[i][j] is updated by adding the a[i][k] and b[k][j] for all k from 1 to n.\n",
    "    \n",
    "    assert a.shape[0]==b.shape[1], \"Matrix dim is not suitable\"  # Error message\n",
    "    \n",
    "    ab_mult = np.zeros((a.shape[0], b.shape[1]))\n",
    "    \n",
    "    for i in range(a.shape[0]):\n",
    "        for j in range(b.shape[1]):\n",
    "            for k in range(b.shape[0]):\n",
    "                ab_mult[i][j] += a[i][k] * b[k][j]\n",
    "\n",
    "    return ab_mult"
   ]
  },
  {
   "cell_type": "code",
   "execution_count": 26,
   "id": "c50f39ab-becc-4597-93a5-fcea608f1fa1",
   "metadata": {},
   "outputs": [
    {
     "data": {
      "text/plain": [
       "array([[  6.,  29., -20.],\n",
       "       [ 12.,  52.,  38.],\n",
       "       [-18., -51., -48.]])"
      ]
     },
     "execution_count": 26,
     "metadata": {},
     "output_type": "execute_result"
    }
   ],
   "source": [
    "matrix_multiplication(a_ndarray, b_ndarray)"
   ]
  },
  {
   "cell_type": "markdown",
   "id": "cd896523-d560-44b5-b8d5-e895195dfcef",
   "metadata": {},
   "source": [
    "## [Problem 5] Judge the input whose calculation is not defined"
   ]
  },
  {
   "cell_type": "code",
   "execution_count": 28,
   "id": "b5cdf399-dab3-47f5-8fa1-111da84d2f29",
   "metadata": {},
   "outputs": [],
   "source": [
    "d_ndarray = np.array([[-1, 2, 3], [4, -5, 6]])\n",
    "e_ndarray = np.array([[-9, 8, 7], [6, -5, 4]])"
   ]
  },
  {
   "cell_type": "code",
   "execution_count": 29,
   "id": "ff10c670-6513-4bfa-a718-c2d31f4395d2",
   "metadata": {},
   "outputs": [
    {
     "ename": "AssertionError",
     "evalue": "Matrix dim is not suitable",
     "output_type": "error",
     "traceback": [
      "\u001b[1;31m---------------------------------------------------------------------------\u001b[0m",
      "\u001b[1;31mAssertionError\u001b[0m                            Traceback (most recent call last)",
      "Cell \u001b[1;32mIn[29], line 1\u001b[0m\n\u001b[1;32m----> 1\u001b[0m \u001b[43mmatrix_multiplication\u001b[49m\u001b[43m(\u001b[49m\u001b[43md_ndarray\u001b[49m\u001b[43m,\u001b[49m\u001b[43m \u001b[49m\u001b[43me_ndarray\u001b[49m\u001b[43m)\u001b[49m\n",
      "Cell \u001b[1;32mIn[25], line 10\u001b[0m, in \u001b[0;36mmatrix_multiplication\u001b[1;34m(a, b)\u001b[0m\n\u001b[0;32m      1\u001b[0m \u001b[38;5;28;01mdef\u001b[39;00m \u001b[38;5;21mmatrix_multiplication\u001b[39m(a, b):\n\u001b[0;32m      2\u001b[0m \n\u001b[0;32m      3\u001b[0m     \u001b[38;5;66;03m# This is explanation of matrix multiplication function.\u001b[39;00m\n\u001b[1;32m   (...)\u001b[0m\n\u001b[0;32m      7\u001b[0m     \u001b[38;5;66;03m# The expression ab_mult[i][j] represents the element in the i-th row and j-th column of the resulting matrix ab_mult\u001b[39;00m\n\u001b[0;32m      8\u001b[0m     \u001b[38;5;66;03m# ab_mult[i][j] is updated by adding the a[i][k] and b[k][j] for all k from 1 to n.\u001b[39;00m\n\u001b[1;32m---> 10\u001b[0m     \u001b[38;5;28;01massert\u001b[39;00m a\u001b[38;5;241m.\u001b[39mshape[\u001b[38;5;241m0\u001b[39m]\u001b[38;5;241m==\u001b[39mb\u001b[38;5;241m.\u001b[39mshape[\u001b[38;5;241m1\u001b[39m], \u001b[38;5;124m\"\u001b[39m\u001b[38;5;124mMatrix dim is not suitable\u001b[39m\u001b[38;5;124m\"\u001b[39m  \u001b[38;5;66;03m# Error message\u001b[39;00m\n\u001b[0;32m     12\u001b[0m     ab_mult \u001b[38;5;241m=\u001b[39m np\u001b[38;5;241m.\u001b[39mzeros((a\u001b[38;5;241m.\u001b[39mshape[\u001b[38;5;241m0\u001b[39m], b\u001b[38;5;241m.\u001b[39mshape[\u001b[38;5;241m1\u001b[39m]))\n\u001b[0;32m     14\u001b[0m     \u001b[38;5;28;01mfor\u001b[39;00m i \u001b[38;5;129;01min\u001b[39;00m \u001b[38;5;28mrange\u001b[39m(a\u001b[38;5;241m.\u001b[39mshape[\u001b[38;5;241m0\u001b[39m]):\n",
      "\u001b[1;31mAssertionError\u001b[0m: Matrix dim is not suitable"
     ]
    }
   ],
   "source": [
    "matrix_multiplication(d_ndarray, e_ndarray)"
   ]
  },
  {
   "cell_type": "markdown",
   "id": "5934119e-abc0-42f3-b2af-6ef9ecb58fcb",
   "metadata": {},
   "source": [
    "## [Problem 6] Transposition"
   ]
  },
  {
   "cell_type": "code",
   "execution_count": 30,
   "id": "74cd4e8f-3e34-4202-a27a-201cba53e2e1",
   "metadata": {},
   "outputs": [
    {
     "name": "stdout",
     "output_type": "stream",
     "text": [
      "[[-9  8  7]\n",
      " [ 6 -5  4]]\n"
     ]
    },
    {
     "data": {
      "text/plain": [
       "array([[-9,  6],\n",
       "       [ 8, -5],\n",
       "       [ 7,  4]])"
      ]
     },
     "execution_count": 30,
     "metadata": {},
     "output_type": "execute_result"
    }
   ],
   "source": [
    "print(e_ndarray)\n",
    "np.transpose(e_ndarray)"
   ]
  },
  {
   "cell_type": "code",
   "execution_count": 31,
   "id": "3d99211e-33bb-409b-a496-c9f97009e7e0",
   "metadata": {},
   "outputs": [
    {
     "data": {
      "text/plain": [
       "array([[-9,  6],\n",
       "       [ 8, -5],\n",
       "       [ 7,  4]])"
      ]
     },
     "execution_count": 31,
     "metadata": {},
     "output_type": "execute_result"
    }
   ],
   "source": [
    "e_ndarray.T"
   ]
  },
  {
   "cell_type": "code",
   "execution_count": 32,
   "id": "d3d1dded-68b4-4034-927f-a78460fb3915",
   "metadata": {},
   "outputs": [
    {
     "data": {
      "text/plain": [
       "array([[ 46.,  -4.],\n",
       "       [-34.,  73.]])"
      ]
     },
     "execution_count": 32,
     "metadata": {},
     "output_type": "execute_result"
    }
   ],
   "source": [
    "matrix_multiplication(d_ndarray, e_ndarray.T)"
   ]
  },
  {
   "cell_type": "code",
   "execution_count": null,
   "id": "ee3b37a0-2ff6-4dc4-b13a-cf9e19cbd6ae",
   "metadata": {},
   "outputs": [],
   "source": []
  }
 ],
 "metadata": {
  "kernelspec": {
   "display_name": "Python 3 (ipykernel)",
   "language": "python",
   "name": "python3"
  },
  "language_info": {
   "codemirror_mode": {
    "name": "ipython",
    "version": 3
   },
   "file_extension": ".py",
   "mimetype": "text/x-python",
   "name": "python",
   "nbconvert_exporter": "python",
   "pygments_lexer": "ipython3",
   "version": "3.11.5"
  }
 },
 "nbformat": 4,
 "nbformat_minor": 5
}
