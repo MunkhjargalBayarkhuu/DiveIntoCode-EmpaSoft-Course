{
 "cells": [
  {
   "cell_type": "code",
   "execution_count": 1,
   "metadata": {
    "id": "HlwLrkhsqtER"
   },
   "outputs": [],
   "source": [
    "import numpy as np\n",
    "import pandas as pd\n",
    "from keras.datasets import mnist\n",
    "import tensorflow as tf\n",
    "from sklearn.preprocessing import OneHotEncoder, StandardScaler\n",
    "from sklearn.model_selection import train_test_split\n",
    "from keras.models import Sequential\n",
    "from keras.layers import Dense, Activation, Conv2D, MaxPooling2D, Flatten\n",
    "from keras.optimizers import Adam, SGD\n",
    "import matplotlib.pyplot as plt\n",
    "from keras import metrics\n",
    "from keras.utils import to_categorical"
   ]
  },
  {
   "cell_type": "markdown",
   "metadata": {
    "id": "6BAEHUOLAIMK"
   },
   "source": [
    "[Problem 1] Share and execute the official tutorial model. Share and run the official TensorFLow tutorial model."
   ]
  },
  {
   "cell_type": "markdown",
   "metadata": {
    "id": "KJKBws-0Ajah"
   },
   "source": [
    "TensorFlow 2 quickstart for beginners"
   ]
  },
  {
   "cell_type": "code",
   "execution_count": 2,
   "metadata": {
    "colab": {
     "base_uri": "https://localhost:8080/"
    },
    "id": "W-ymvJ9TAmvM",
    "outputId": "9ad5f7ce-eff3-454e-a6f2-0c83b90d0250"
   },
   "outputs": [
    {
     "name": "stdout",
     "output_type": "stream",
     "text": [
      "Downloading data from https://storage.googleapis.com/tensorflow/tf-keras-datasets/mnist.npz\n",
      "11490434/11490434 [==============================] - 1s 0us/step\n",
      "Epoch 1/5\n",
      "1875/1875 [==============================] - 22s 11ms/step - loss: 0.2943 - accuracy: 0.9135\n",
      "Epoch 2/5\n",
      "1875/1875 [==============================] - 11s 6ms/step - loss: 0.1380 - accuracy: 0.9593\n",
      "Epoch 3/5\n",
      "1875/1875 [==============================] - 9s 5ms/step - loss: 0.1050 - accuracy: 0.9683\n",
      "Epoch 4/5\n",
      "1875/1875 [==============================] - 7s 4ms/step - loss: 0.0858 - accuracy: 0.9733\n",
      "Epoch 5/5\n",
      "1875/1875 [==============================] - 9s 5ms/step - loss: 0.0737 - accuracy: 0.9768\n",
      "313/313 - 1s - loss: 0.0707 - accuracy: 0.9792 - 633ms/epoch - 2ms/step\n"
     ]
    },
    {
     "data": {
      "text/plain": [
       "<tf.Tensor: shape=(5, 10), dtype=float32, numpy=\n",
       "array([[7.50771090e-09, 1.77587395e-07, 5.66645031e-06, 1.95073138e-04,\n",
       "        3.96081154e-11, 3.57462909e-07, 2.59904755e-13, 9.99791324e-01,\n",
       "        3.59315379e-07, 7.07201389e-06],\n",
       "       [1.40103840e-08, 7.83852954e-07, 9.99998569e-01, 6.12714416e-07,\n",
       "        1.36832286e-15, 1.08153397e-09, 1.71091941e-09, 6.77633514e-13,\n",
       "        9.64378088e-09, 9.01190032e-15],\n",
       "       [7.47843529e-08, 9.97647107e-01, 1.84094839e-04, 5.85905264e-06,\n",
       "        7.71875275e-05, 1.93626183e-05, 2.21365626e-05, 1.95724843e-03,\n",
       "        8.47247720e-05, 2.10477401e-06],\n",
       "       [9.99769151e-01, 5.06305620e-09, 8.37149419e-05, 2.15113005e-07,\n",
       "        1.07183524e-07, 1.05262188e-05, 4.98000481e-05, 7.01680692e-05,\n",
       "        6.69560123e-08, 1.62821943e-05],\n",
       "       [6.60476780e-06, 3.26134881e-07, 2.74415306e-05, 1.97300224e-07,\n",
       "        9.99271929e-01, 3.43775446e-06, 1.62627009e-06, 1.07257656e-04,\n",
       "        1.23785492e-06, 5.80003310e-04]], dtype=float32)>"
      ]
     },
     "execution_count": 2,
     "metadata": {},
     "output_type": "execute_result"
    }
   ],
   "source": [
    "#Load dataset\n",
    "mnist = tf.keras.datasets.mnist\n",
    "\n",
    "(x_train, y_train), (x_test, y_test) = mnist.load_data()\n",
    "x_train, x_test = x_train / 255.0, x_test / 255.0\n",
    "\n",
    "#Build a machine learning model\n",
    "model = tf.keras.models.Sequential([\n",
    "  tf.keras.layers.Flatten(input_shape=(28, 28)),\n",
    "  tf.keras.layers.Dense(128, activation='relu'),\n",
    "  tf.keras.layers.Dropout(0.2),\n",
    "  tf.keras.layers.Dense(10)\n",
    "])\n",
    "\n",
    "predictions = model(x_train[:1]).numpy()\n",
    "predictions\n",
    "\n",
    "tf.nn.softmax(predictions).numpy()\n",
    "\n",
    "loss_fn = tf.keras.losses.SparseCategoricalCrossentropy(from_logits=True)\n",
    "\n",
    "loss_fn(y_train[:1], predictions).numpy()\n",
    "\n",
    "model.compile(optimizer='adam',\n",
    "              loss=loss_fn,\n",
    "              metrics=['accuracy'])\n",
    "\n",
    "#Train and evaluate your model\n",
    "model.fit(x_train, y_train, epochs=5)\n",
    "\n",
    "model.evaluate(x_test,  y_test, verbose=2)\n",
    "\n",
    "probability_model = tf.keras.Sequential([\n",
    "  model,\n",
    "  tf.keras.layers.Softmax()\n",
    "])\n",
    "\n",
    "probability_model(x_test[:5])"
   ]
  },
  {
   "cell_type": "markdown",
   "metadata": {
    "id": "xnvsWMvqw9O5"
   },
   "source": [
    "[Problem 3] Learning Iris (binary classification) with Keras. Rewrite the binary classification for the Iris dataset by TensorFlow to Keras."
   ]
  },
  {
   "cell_type": "code",
   "execution_count": 4,
   "metadata": {
    "id": "UyKSh24axDQp"
   },
   "outputs": [],
   "source": [
    "df = pd.read_csv(\"/content/sample_data/Iris.csv\")\n",
    "df = df[(df[\"Species\"] == \"Iris-versicolor\") | (df[\"Species\"] == \"Iris-virginica\")]\n",
    "y = df[\"Species\"]\n",
    "X = df.loc[:, [\"SepalLengthCm\", \"SepalWidthCm\", \"PetalLengthCm\", \"PetalWidthCm\"]]\n",
    "X = np.array(X)\n",
    "y = np.array(y)\n",
    "y[y == \"Iris-versicolor\"] = 0\n",
    "y[y == \"Iris-virginica\"] = 1\n",
    "y = y.astype(np.int64)[:, np.newaxis]\n",
    "X_train, X_test, y_train, y_test = train_test_split(X, y, test_size=0.2, random_state=0)\n",
    "X_train, X_val, y_train, y_val = train_test_split(X_train, y_train, test_size=0.2, random_state=0)\n",
    "n_features = X.shape[1]\n",
    "n_classes = y.shape[1]"
   ]
  },
  {
   "cell_type": "code",
   "execution_count": 5,
   "metadata": {
    "colab": {
     "base_uri": "https://localhost:8080/"
    },
    "id": "4AKK-h_5CHr4",
    "outputId": "593d8c58-165f-4ac7-c661-566b4e158f79"
   },
   "outputs": [
    {
     "name": "stdout",
     "output_type": "stream",
     "text": [
      "Model: \"sequential_2\"\n",
      "_________________________________________________________________\n",
      " Layer (type)                Output Shape              Param #   \n",
      "=================================================================\n",
      " dense_2 (Dense)             (None, 20)                100       \n",
      "                                                                 \n",
      " dense_3 (Dense)             (None, 5)                 105       \n",
      "                                                                 \n",
      " dense_4 (Dense)             (None, 1)                 6         \n",
      "                                                                 \n",
      "=================================================================\n",
      "Total params: 211 (844.00 Byte)\n",
      "Trainable params: 211 (844.00 Byte)\n",
      "Non-trainable params: 0 (0.00 Byte)\n",
      "_________________________________________________________________\n",
      "None\n"
     ]
    }
   ],
   "source": [
    "model = Sequential()\n",
    "model.add(Dense(20, input_dim = n_features, activation='relu'))\n",
    "model.add(Dense(5, activation='relu'))\n",
    "model.add(Dense(n_classes, activation='sigmoid'))\n",
    "\n",
    "print(model.summary())"
   ]
  },
  {
   "cell_type": "code",
   "execution_count": 6,
   "metadata": {
    "colab": {
     "base_uri": "https://localhost:8080/"
    },
    "id": "zF-BJ4ugCl1F",
    "outputId": "0af6a9cb-0826-4c7c-be94-c61b5d816104"
   },
   "outputs": [
    {
     "name": "stdout",
     "output_type": "stream",
     "text": [
      "Epoch 1/50\n",
      "4/4 [==============================] - 1s 109ms/step - loss: 1.1921 - accuracy: 0.5312 - val_loss: 1.4267 - val_accuracy: 0.3750\n",
      "Epoch 2/50\n",
      "4/4 [==============================] - 0s 25ms/step - loss: 1.0854 - accuracy: 0.5312 - val_loss: 1.3007 - val_accuracy: 0.3750\n",
      "Epoch 3/50\n",
      "4/4 [==============================] - 0s 21ms/step - loss: 1.0010 - accuracy: 0.5312 - val_loss: 1.1805 - val_accuracy: 0.3750\n",
      "Epoch 4/50\n",
      "4/4 [==============================] - 0s 24ms/step - loss: 0.9188 - accuracy: 0.5312 - val_loss: 1.0729 - val_accuracy: 0.3750\n",
      "Epoch 5/50\n",
      "4/4 [==============================] - 0s 18ms/step - loss: 0.8488 - accuracy: 0.5312 - val_loss: 0.9794 - val_accuracy: 0.3750\n",
      "Epoch 6/50\n",
      "4/4 [==============================] - 0s 16ms/step - loss: 0.7984 - accuracy: 0.5312 - val_loss: 0.9010 - val_accuracy: 0.3750\n",
      "Epoch 7/50\n",
      "4/4 [==============================] - 0s 15ms/step - loss: 0.7541 - accuracy: 0.5312 - val_loss: 0.8410 - val_accuracy: 0.3750\n",
      "Epoch 8/50\n",
      "4/4 [==============================] - 0s 24ms/step - loss: 0.7307 - accuracy: 0.5312 - val_loss: 0.7950 - val_accuracy: 0.3750\n",
      "Epoch 9/50\n",
      "4/4 [==============================] - 0s 18ms/step - loss: 0.7095 - accuracy: 0.5312 - val_loss: 0.7747 - val_accuracy: 0.3750\n",
      "Epoch 10/50\n",
      "4/4 [==============================] - 0s 21ms/step - loss: 0.7011 - accuracy: 0.5312 - val_loss: 0.7727 - val_accuracy: 0.3750\n",
      "Epoch 11/50\n",
      "4/4 [==============================] - 0s 25ms/step - loss: 0.6996 - accuracy: 0.5312 - val_loss: 0.7702 - val_accuracy: 0.3750\n",
      "Epoch 12/50\n",
      "4/4 [==============================] - 0s 24ms/step - loss: 0.6986 - accuracy: 0.5312 - val_loss: 0.7680 - val_accuracy: 0.3750\n",
      "Epoch 13/50\n",
      "4/4 [==============================] - 0s 24ms/step - loss: 0.6981 - accuracy: 0.5312 - val_loss: 0.7653 - val_accuracy: 0.3750\n",
      "Epoch 14/50\n",
      "4/4 [==============================] - 0s 19ms/step - loss: 0.6969 - accuracy: 0.5312 - val_loss: 0.7633 - val_accuracy: 0.3750\n",
      "Epoch 15/50\n",
      "4/4 [==============================] - 0s 27ms/step - loss: 0.6962 - accuracy: 0.5312 - val_loss: 0.7611 - val_accuracy: 0.3750\n",
      "Epoch 16/50\n",
      "4/4 [==============================] - 0s 25ms/step - loss: 0.6955 - accuracy: 0.5312 - val_loss: 0.7591 - val_accuracy: 0.3750\n",
      "Epoch 17/50\n",
      "4/4 [==============================] - 0s 17ms/step - loss: 0.6950 - accuracy: 0.5312 - val_loss: 0.7568 - val_accuracy: 0.3750\n",
      "Epoch 18/50\n",
      "4/4 [==============================] - 0s 17ms/step - loss: 0.6943 - accuracy: 0.5312 - val_loss: 0.7548 - val_accuracy: 0.3750\n",
      "Epoch 19/50\n",
      "4/4 [==============================] - 0s 21ms/step - loss: 0.6936 - accuracy: 0.5312 - val_loss: 0.7533 - val_accuracy: 0.3750\n",
      "Epoch 20/50\n",
      "4/4 [==============================] - 0s 22ms/step - loss: 0.6932 - accuracy: 0.5312 - val_loss: 0.7513 - val_accuracy: 0.3750\n",
      "Epoch 21/50\n",
      "4/4 [==============================] - 0s 25ms/step - loss: 0.6925 - accuracy: 0.5312 - val_loss: 0.7497 - val_accuracy: 0.3750\n",
      "Epoch 22/50\n",
      "4/4 [==============================] - 0s 22ms/step - loss: 0.6921 - accuracy: 0.5312 - val_loss: 0.7482 - val_accuracy: 0.3750\n",
      "Epoch 23/50\n",
      "4/4 [==============================] - 0s 23ms/step - loss: 0.6918 - accuracy: 0.5312 - val_loss: 0.7463 - val_accuracy: 0.3750\n",
      "Epoch 24/50\n",
      "4/4 [==============================] - 0s 17ms/step - loss: 0.6913 - accuracy: 0.5312 - val_loss: 0.7449 - val_accuracy: 0.3750\n",
      "Epoch 25/50\n",
      "4/4 [==============================] - 0s 12ms/step - loss: 0.6909 - accuracy: 0.5312 - val_loss: 0.7434 - val_accuracy: 0.3750\n",
      "Epoch 26/50\n",
      "4/4 [==============================] - 0s 12ms/step - loss: 0.6905 - accuracy: 0.5312 - val_loss: 0.7421 - val_accuracy: 0.3750\n",
      "Epoch 27/50\n",
      "4/4 [==============================] - 0s 12ms/step - loss: 0.6901 - accuracy: 0.5312 - val_loss: 0.7409 - val_accuracy: 0.3750\n",
      "Epoch 28/50\n",
      "4/4 [==============================] - 0s 11ms/step - loss: 0.6898 - accuracy: 0.5312 - val_loss: 0.7399 - val_accuracy: 0.3750\n",
      "Epoch 29/50\n",
      "4/4 [==============================] - 0s 19ms/step - loss: 0.6897 - accuracy: 0.5312 - val_loss: 0.7384 - val_accuracy: 0.3750\n",
      "Epoch 30/50\n",
      "4/4 [==============================] - 0s 18ms/step - loss: 0.6892 - accuracy: 0.5312 - val_loss: 0.7373 - val_accuracy: 0.3750\n",
      "Epoch 31/50\n",
      "4/4 [==============================] - 0s 21ms/step - loss: 0.6888 - accuracy: 0.5312 - val_loss: 0.7364 - val_accuracy: 0.3750\n",
      "Epoch 32/50\n",
      "4/4 [==============================] - 0s 20ms/step - loss: 0.6885 - accuracy: 0.5312 - val_loss: 0.7357 - val_accuracy: 0.3750\n",
      "Epoch 33/50\n",
      "4/4 [==============================] - 0s 20ms/step - loss: 0.6882 - accuracy: 0.5312 - val_loss: 0.7352 - val_accuracy: 0.3750\n",
      "Epoch 34/50\n",
      "4/4 [==============================] - 0s 19ms/step - loss: 0.6880 - accuracy: 0.5312 - val_loss: 0.7342 - val_accuracy: 0.3750\n",
      "Epoch 35/50\n",
      "4/4 [==============================] - 0s 13ms/step - loss: 0.6876 - accuracy: 0.5312 - val_loss: 0.7335 - val_accuracy: 0.3750\n",
      "Epoch 36/50\n",
      "4/4 [==============================] - 0s 13ms/step - loss: 0.6874 - accuracy: 0.5312 - val_loss: 0.7328 - val_accuracy: 0.3750\n",
      "Epoch 37/50\n",
      "4/4 [==============================] - 0s 14ms/step - loss: 0.6871 - accuracy: 0.5312 - val_loss: 0.7321 - val_accuracy: 0.3750\n",
      "Epoch 38/50\n",
      "4/4 [==============================] - 0s 20ms/step - loss: 0.6871 - accuracy: 0.5312 - val_loss: 0.7310 - val_accuracy: 0.3750\n",
      "Epoch 39/50\n",
      "4/4 [==============================] - 0s 19ms/step - loss: 0.6867 - accuracy: 0.5312 - val_loss: 0.7302 - val_accuracy: 0.3750\n",
      "Epoch 40/50\n",
      "4/4 [==============================] - 0s 14ms/step - loss: 0.6864 - accuracy: 0.5312 - val_loss: 0.7294 - val_accuracy: 0.3750\n",
      "Epoch 41/50\n",
      "4/4 [==============================] - 0s 13ms/step - loss: 0.6861 - accuracy: 0.5312 - val_loss: 0.7289 - val_accuracy: 0.3750\n",
      "Epoch 42/50\n",
      "4/4 [==============================] - 0s 19ms/step - loss: 0.6859 - accuracy: 0.5312 - val_loss: 0.7283 - val_accuracy: 0.3750\n",
      "Epoch 43/50\n",
      "4/4 [==============================] - 0s 21ms/step - loss: 0.6856 - accuracy: 0.5312 - val_loss: 0.7281 - val_accuracy: 0.3750\n",
      "Epoch 44/50\n",
      "4/4 [==============================] - 0s 19ms/step - loss: 0.6854 - accuracy: 0.5312 - val_loss: 0.7277 - val_accuracy: 0.3750\n",
      "Epoch 45/50\n",
      "4/4 [==============================] - 0s 14ms/step - loss: 0.6851 - accuracy: 0.5312 - val_loss: 0.7274 - val_accuracy: 0.3750\n",
      "Epoch 46/50\n",
      "4/4 [==============================] - 0s 19ms/step - loss: 0.6849 - accuracy: 0.5312 - val_loss: 0.7269 - val_accuracy: 0.3750\n",
      "Epoch 47/50\n",
      "4/4 [==============================] - 0s 22ms/step - loss: 0.6847 - accuracy: 0.5312 - val_loss: 0.7263 - val_accuracy: 0.3750\n",
      "Epoch 48/50\n",
      "4/4 [==============================] - 0s 14ms/step - loss: 0.6844 - accuracy: 0.5312 - val_loss: 0.7260 - val_accuracy: 0.3750\n",
      "Epoch 49/50\n",
      "4/4 [==============================] - 0s 15ms/step - loss: 0.6842 - accuracy: 0.5312 - val_loss: 0.7258 - val_accuracy: 0.3750\n",
      "Epoch 50/50\n",
      "4/4 [==============================] - 0s 20ms/step - loss: 0.6840 - accuracy: 0.5312 - val_loss: 0.7256 - val_accuracy: 0.3750\n",
      "Test loss: 0.6990554928779602\n",
      "Test accuracy: 0.5\n"
     ]
    }
   ],
   "source": [
    "model.compile(loss='binary_crossentropy', optimizer='adam', metrics=['accuracy'])\n",
    "\n",
    "history = model.fit(\n",
    "        X_train,\n",
    "        y_train,\n",
    "        validation_data=(X_val, y_val),\n",
    "        epochs=50,\n",
    "        batch_size=16,\n",
    "        verbose=True)\n",
    "\n",
    "score = model.evaluate(X_test, y_test, verbose=0)\n",
    "print('Test loss:', score[0])\n",
    "print('Test accuracy:', score[1])"
   ]
  },
  {
   "cell_type": "markdown",
   "metadata": {
    "id": "KySyBRzOUqXX"
   },
   "source": [
    "[Problem 4] Learn Iris (multi-level classification) with Keras.\n",
    "Rewrite the ternary classification for Iris dataset by TensorFlow to Keras."
   ]
  },
  {
   "cell_type": "code",
   "execution_count": 7,
   "metadata": {
    "colab": {
     "base_uri": "https://localhost:8080/"
    },
    "id": "fCfW2QhMU257",
    "outputId": "df6bdee4-1996-49bf-e949-f0de7b4ebc36"
   },
   "outputs": [
    {
     "name": "stderr",
     "output_type": "stream",
     "text": [
      "/usr/local/lib/python3.10/dist-packages/sklearn/preprocessing/_encoders.py:868: FutureWarning: `sparse` was renamed to `sparse_output` in version 1.2 and will be removed in 1.4. `sparse_output` is ignored unless you leave `sparse` to its default value.\n",
      "  warnings.warn(\n"
     ]
    }
   ],
   "source": [
    "y = df[\"Species\"].to_numpy()\n",
    "X = df.loc[:, [\"SepalLengthCm\", \"SepalWidthCm\", \"PetalLengthCm\", \"PetalWidthCm\"]].to_numpy()\n",
    "y[y == \"Iris-versicolor\"] = 0\n",
    "y[y == \"Iris-virginica\"] = 1\n",
    "y[y == \"Iris-setosa\"] = 2\n",
    "#y = y.astype(np.int64)[:, np.newaxis]\n",
    "\n",
    "enc = OneHotEncoder(handle_unknown='ignore', sparse=False)\n",
    "y = enc.fit_transform(y[:,np.newaxis])\n",
    "X_train, X_test, y_train, y_test = train_test_split(X, y, test_size=0.2, random_state=0)\n",
    "X_train, X_val, y_train, y_val = train_test_split(X_train, y_train, test_size=0.2, random_state=0)\n",
    "n_features = X.shape[1]\n",
    "n_classes = y.shape[1]"
   ]
  },
  {
   "cell_type": "code",
   "execution_count": 8,
   "metadata": {
    "colab": {
     "base_uri": "https://localhost:8080/"
    },
    "id": "oa2yXn2lVa0h",
    "outputId": "79704568-50b2-4936-bd37-4229ee2ae8ef"
   },
   "outputs": [
    {
     "name": "stdout",
     "output_type": "stream",
     "text": [
      "Model: \"sequential_3\"\n",
      "_________________________________________________________________\n",
      " Layer (type)                Output Shape              Param #   \n",
      "=================================================================\n",
      " dense_5 (Dense)             (None, 100)               500       \n",
      "                                                                 \n",
      " dense_6 (Dense)             (None, 10)                1010      \n",
      "                                                                 \n",
      " dense_7 (Dense)             (None, 2)                 22        \n",
      "                                                                 \n",
      "=================================================================\n",
      "Total params: 1532 (5.98 KB)\n",
      "Trainable params: 1532 (5.98 KB)\n",
      "Non-trainable params: 0 (0.00 Byte)\n",
      "_________________________________________________________________\n",
      "None\n"
     ]
    }
   ],
   "source": [
    "model = Sequential()\n",
    "model.add(Dense(100, input_dim = n_features, activation='relu'))\n",
    "model.add(Dense(10, activation='relu'))\n",
    "model.add(Dense(n_classes, activation='softmax'))\n",
    "\n",
    "print(model.summary())"
   ]
  },
  {
   "cell_type": "code",
   "execution_count": 9,
   "metadata": {
    "colab": {
     "base_uri": "https://localhost:8080/"
    },
    "id": "fCZyqU7tVcne",
    "outputId": "d60d1035-e301-4119-eab1-4c67a03219e2"
   },
   "outputs": [
    {
     "name": "stdout",
     "output_type": "stream",
     "text": [
      "Epoch 1/50\n",
      "4/4 [==============================] - 1s 74ms/step - loss: 0.8143 - accuracy: 0.5312 - val_loss: 0.8502 - val_accuracy: 0.3750\n",
      "Epoch 2/50\n",
      "4/4 [==============================] - 0s 16ms/step - loss: 0.7373 - accuracy: 0.5312 - val_loss: 0.7200 - val_accuracy: 0.3125\n",
      "Epoch 3/50\n",
      "4/4 [==============================] - 0s 18ms/step - loss: 0.7051 - accuracy: 0.4375 - val_loss: 0.6831 - val_accuracy: 0.6250\n",
      "Epoch 4/50\n",
      "4/4 [==============================] - 0s 19ms/step - loss: 0.7048 - accuracy: 0.4844 - val_loss: 0.6831 - val_accuracy: 0.7500\n",
      "Epoch 5/50\n",
      "4/4 [==============================] - 0s 18ms/step - loss: 0.6757 - accuracy: 0.5781 - val_loss: 0.6934 - val_accuracy: 0.3750\n",
      "Epoch 6/50\n",
      "4/4 [==============================] - 0s 18ms/step - loss: 0.6621 - accuracy: 0.5312 - val_loss: 0.6963 - val_accuracy: 0.3750\n",
      "Epoch 7/50\n",
      "4/4 [==============================] - 0s 13ms/step - loss: 0.6517 - accuracy: 0.5312 - val_loss: 0.6901 - val_accuracy: 0.3750\n",
      "Epoch 8/50\n",
      "4/4 [==============================] - 0s 14ms/step - loss: 0.6416 - accuracy: 0.5312 - val_loss: 0.6748 - val_accuracy: 0.3750\n",
      "Epoch 9/50\n",
      "4/4 [==============================] - 0s 19ms/step - loss: 0.6320 - accuracy: 0.5625 - val_loss: 0.6560 - val_accuracy: 0.5000\n",
      "Epoch 10/50\n",
      "4/4 [==============================] - 0s 13ms/step - loss: 0.6228 - accuracy: 0.7188 - val_loss: 0.6434 - val_accuracy: 0.6250\n",
      "Epoch 11/50\n",
      "4/4 [==============================] - 0s 14ms/step - loss: 0.6148 - accuracy: 0.7656 - val_loss: 0.6327 - val_accuracy: 0.6250\n",
      "Epoch 12/50\n",
      "4/4 [==============================] - 0s 22ms/step - loss: 0.6045 - accuracy: 0.7188 - val_loss: 0.6338 - val_accuracy: 0.6250\n",
      "Epoch 13/50\n",
      "4/4 [==============================] - 0s 12ms/step - loss: 0.5981 - accuracy: 0.6250 - val_loss: 0.6375 - val_accuracy: 0.4375\n",
      "Epoch 14/50\n",
      "4/4 [==============================] - 0s 13ms/step - loss: 0.5874 - accuracy: 0.6719 - val_loss: 0.6053 - val_accuracy: 0.7500\n",
      "Epoch 15/50\n",
      "4/4 [==============================] - 0s 12ms/step - loss: 0.5768 - accuracy: 0.8438 - val_loss: 0.5876 - val_accuracy: 0.8750\n",
      "Epoch 16/50\n",
      "4/4 [==============================] - 0s 14ms/step - loss: 0.5678 - accuracy: 0.8125 - val_loss: 0.5933 - val_accuracy: 0.7500\n",
      "Epoch 17/50\n",
      "4/4 [==============================] - 0s 11ms/step - loss: 0.5539 - accuracy: 0.8125 - val_loss: 0.5795 - val_accuracy: 0.8750\n",
      "Epoch 18/50\n",
      "4/4 [==============================] - 0s 12ms/step - loss: 0.5441 - accuracy: 0.8281 - val_loss: 0.5679 - val_accuracy: 0.8750\n",
      "Epoch 19/50\n",
      "4/4 [==============================] - 0s 11ms/step - loss: 0.5348 - accuracy: 0.8594 - val_loss: 0.5515 - val_accuracy: 0.8750\n",
      "Epoch 20/50\n",
      "4/4 [==============================] - 0s 11ms/step - loss: 0.5247 - accuracy: 0.9062 - val_loss: 0.5457 - val_accuracy: 0.8750\n",
      "Epoch 21/50\n",
      "4/4 [==============================] - 0s 13ms/step - loss: 0.5146 - accuracy: 0.9219 - val_loss: 0.5313 - val_accuracy: 0.8750\n",
      "Epoch 22/50\n",
      "4/4 [==============================] - 0s 12ms/step - loss: 0.5044 - accuracy: 0.9062 - val_loss: 0.5224 - val_accuracy: 0.8750\n",
      "Epoch 23/50\n",
      "4/4 [==============================] - 0s 11ms/step - loss: 0.4949 - accuracy: 0.8906 - val_loss: 0.5175 - val_accuracy: 0.8750\n",
      "Epoch 24/50\n",
      "4/4 [==============================] - 0s 14ms/step - loss: 0.4837 - accuracy: 0.9219 - val_loss: 0.4937 - val_accuracy: 1.0000\n",
      "Epoch 25/50\n",
      "4/4 [==============================] - 0s 11ms/step - loss: 0.4766 - accuracy: 0.8906 - val_loss: 0.4906 - val_accuracy: 0.9375\n",
      "Epoch 26/50\n",
      "4/4 [==============================] - 0s 11ms/step - loss: 0.4641 - accuracy: 0.9688 - val_loss: 0.4675 - val_accuracy: 1.0000\n",
      "Epoch 27/50\n",
      "4/4 [==============================] - 0s 11ms/step - loss: 0.4524 - accuracy: 0.9688 - val_loss: 0.4630 - val_accuracy: 1.0000\n",
      "Epoch 28/50\n",
      "4/4 [==============================] - 0s 11ms/step - loss: 0.4434 - accuracy: 0.9375 - val_loss: 0.4609 - val_accuracy: 0.9375\n",
      "Epoch 29/50\n",
      "4/4 [==============================] - 0s 12ms/step - loss: 0.4307 - accuracy: 0.9375 - val_loss: 0.4365 - val_accuracy: 1.0000\n",
      "Epoch 30/50\n",
      "4/4 [==============================] - 0s 11ms/step - loss: 0.4217 - accuracy: 0.9688 - val_loss: 0.4213 - val_accuracy: 1.0000\n",
      "Epoch 31/50\n",
      "4/4 [==============================] - 0s 11ms/step - loss: 0.4129 - accuracy: 0.9688 - val_loss: 0.4112 - val_accuracy: 1.0000\n",
      "Epoch 32/50\n",
      "4/4 [==============================] - 0s 11ms/step - loss: 0.3979 - accuracy: 0.9688 - val_loss: 0.4124 - val_accuracy: 1.0000\n",
      "Epoch 33/50\n",
      "4/4 [==============================] - 0s 12ms/step - loss: 0.3899 - accuracy: 0.9531 - val_loss: 0.4034 - val_accuracy: 1.0000\n",
      "Epoch 34/50\n",
      "4/4 [==============================] - 0s 11ms/step - loss: 0.3819 - accuracy: 0.9531 - val_loss: 0.3830 - val_accuracy: 1.0000\n",
      "Epoch 35/50\n",
      "4/4 [==============================] - 0s 14ms/step - loss: 0.3696 - accuracy: 0.9688 - val_loss: 0.3698 - val_accuracy: 1.0000\n",
      "Epoch 36/50\n",
      "4/4 [==============================] - 0s 12ms/step - loss: 0.3740 - accuracy: 0.9688 - val_loss: 0.3512 - val_accuracy: 1.0000\n",
      "Epoch 37/50\n",
      "4/4 [==============================] - 0s 19ms/step - loss: 0.3565 - accuracy: 0.9531 - val_loss: 0.3687 - val_accuracy: 1.0000\n",
      "Epoch 38/50\n",
      "4/4 [==============================] - 0s 15ms/step - loss: 0.3445 - accuracy: 0.9375 - val_loss: 0.3441 - val_accuracy: 1.0000\n",
      "Epoch 39/50\n",
      "4/4 [==============================] - 0s 13ms/step - loss: 0.3291 - accuracy: 0.9688 - val_loss: 0.3212 - val_accuracy: 1.0000\n",
      "Epoch 40/50\n",
      "4/4 [==============================] - 0s 16ms/step - loss: 0.3215 - accuracy: 0.9688 - val_loss: 0.3053 - val_accuracy: 1.0000\n",
      "Epoch 41/50\n",
      "4/4 [==============================] - 0s 16ms/step - loss: 0.3114 - accuracy: 0.9688 - val_loss: 0.3040 - val_accuracy: 1.0000\n",
      "Epoch 42/50\n",
      "4/4 [==============================] - 0s 15ms/step - loss: 0.3008 - accuracy: 0.9531 - val_loss: 0.3099 - val_accuracy: 1.0000\n",
      "Epoch 43/50\n",
      "4/4 [==============================] - 0s 19ms/step - loss: 0.2972 - accuracy: 0.9531 - val_loss: 0.2888 - val_accuracy: 1.0000\n",
      "Epoch 44/50\n",
      "4/4 [==============================] - 0s 20ms/step - loss: 0.2913 - accuracy: 0.9688 - val_loss: 0.2602 - val_accuracy: 1.0000\n",
      "Epoch 45/50\n",
      "4/4 [==============================] - 0s 13ms/step - loss: 0.2814 - accuracy: 0.9531 - val_loss: 0.2678 - val_accuracy: 1.0000\n",
      "Epoch 46/50\n",
      "4/4 [==============================] - 0s 13ms/step - loss: 0.2674 - accuracy: 0.9688 - val_loss: 0.2571 - val_accuracy: 1.0000\n",
      "Epoch 47/50\n",
      "4/4 [==============================] - 0s 20ms/step - loss: 0.2599 - accuracy: 0.9688 - val_loss: 0.2490 - val_accuracy: 1.0000\n",
      "Epoch 48/50\n",
      "4/4 [==============================] - 0s 19ms/step - loss: 0.2515 - accuracy: 0.9688 - val_loss: 0.2340 - val_accuracy: 1.0000\n",
      "Epoch 49/50\n",
      "4/4 [==============================] - 0s 20ms/step - loss: 0.2452 - accuracy: 0.9688 - val_loss: 0.2317 - val_accuracy: 1.0000\n",
      "Epoch 50/50\n",
      "4/4 [==============================] - 0s 14ms/step - loss: 0.2382 - accuracy: 0.9688 - val_loss: 0.2182 - val_accuracy: 1.0000\n",
      "Test loss: 0.2732931673526764\n",
      "Test accuracy: 0.8999999761581421\n"
     ]
    }
   ],
   "source": [
    "model.compile(loss='categorical_crossentropy', optimizer='adam', metrics=['accuracy'])\n",
    "\n",
    "history = model.fit(\n",
    "        X_train,\n",
    "        y_train,\n",
    "        validation_data=(X_val, y_val),\n",
    "        epochs=50,\n",
    "        batch_size=16,\n",
    "        verbose=True)\n",
    "\n",
    "score = model.evaluate(X_test, y_test, verbose=0)\n",
    "print('Test loss:', score[0])\n",
    "print('Test accuracy:', score[1])"
   ]
  },
  {
   "cell_type": "markdown",
   "metadata": {
    "id": "UXdjgbWKYR1g"
   },
   "source": [
    "[Problem 5] Learning House Prices with Keras. Rewrite the regression on the House Prices data set by TensorFlow to Keras."
   ]
  },
  {
   "cell_type": "code",
   "execution_count": 11,
   "metadata": {
    "colab": {
     "base_uri": "https://localhost:8080/"
    },
    "id": "h5uvaBkCYWxm",
    "outputId": "124ab3ef-a247-473a-8aa9-824b0549ee26"
   },
   "outputs": [
    {
     "name": "stdout",
     "output_type": "stream",
     "text": [
      "Xshape: (1460, 2)\n",
      "yshape: (1460, 1)\n",
      "Xshape: (1460, 2)\n",
      "yshape: (1460, 1)\n"
     ]
    }
   ],
   "source": [
    "house_data = pd.read_csv('/content/sample_data/train.csv')\n",
    "\n",
    "X = house_data[['GrLivArea', 'YearBuilt']].to_numpy()\n",
    "y = house_data[['SalePrice']].to_numpy()\n",
    "print(\"Xshape:\", X.shape)\n",
    "print(\"yshape:\", y.shape)\n",
    "X = np.log1p(X)\n",
    "y = np.log1p(y)\n",
    "\n",
    "print(\"Xshape:\", X.shape)\n",
    "print(\"yshape:\", y.shape)\n",
    "X_train, X_test, y_train, y_test = train_test_split(X, y, random_state=123, test_size=0.2)\n",
    "X_train, X_val, y_train, y_val = train_test_split(X_train, y_train, random_state=123, test_size=0.2)"
   ]
  },
  {
   "cell_type": "code",
   "execution_count": 12,
   "metadata": {
    "colab": {
     "base_uri": "https://localhost:8080/"
    },
    "id": "XuXZXy5xYfPZ",
    "outputId": "0277a0f3-2f1c-453b-eac6-8dff17805e33"
   },
   "outputs": [
    {
     "name": "stdout",
     "output_type": "stream",
     "text": [
      "Model: \"sequential_4\"\n",
      "_________________________________________________________________\n",
      " Layer (type)                Output Shape              Param #   \n",
      "=================================================================\n",
      " dense_8 (Dense)             (None, 10)                30        \n",
      "                                                                 \n",
      " dense_9 (Dense)             (None, 30)                330       \n",
      "                                                                 \n",
      " dense_10 (Dense)            (None, 40)                1240      \n",
      "                                                                 \n",
      " dense_11 (Dense)            (None, 1)                 41        \n",
      "                                                                 \n",
      "=================================================================\n",
      "Total params: 1641 (6.41 KB)\n",
      "Trainable params: 1641 (6.41 KB)\n",
      "Non-trainable params: 0 (0.00 Byte)\n",
      "_________________________________________________________________\n"
     ]
    }
   ],
   "source": [
    "model = Sequential()\n",
    "model.add(Dense(10, input_dim=X_train.shape[1], activation='relu'))\n",
    "model.add(Dense(30, activation='relu'))\n",
    "model.add(Dense(40, activation='relu'))\n",
    "model.add(Dense(1))\n",
    "\n",
    "model.summary()"
   ]
  },
  {
   "cell_type": "code",
   "execution_count": 13,
   "metadata": {
    "colab": {
     "base_uri": "https://localhost:8080/"
    },
    "id": "QSzAfcE3YodD",
    "outputId": "e07485c4-6650-4c87-c7a7-4a050480ad92"
   },
   "outputs": [
    {
     "name": "stdout",
     "output_type": "stream",
     "text": [
      "Epoch 1/15\n",
      "30/30 [==============================] - 1s 9ms/step - loss: 97.0845 - mean_squared_error: 97.0845 - val_loss: 54.8454 - val_mean_squared_error: 54.8454\n",
      "Epoch 2/15\n",
      "30/30 [==============================] - 0s 4ms/step - loss: 25.5495 - mean_squared_error: 25.5495 - val_loss: 3.0433 - val_mean_squared_error: 3.0433\n",
      "Epoch 3/15\n",
      "30/30 [==============================] - 0s 4ms/step - loss: 0.5897 - mean_squared_error: 0.5897 - val_loss: 0.3108 - val_mean_squared_error: 0.3108\n",
      "Epoch 4/15\n",
      "30/30 [==============================] - 0s 6ms/step - loss: 0.1190 - mean_squared_error: 0.1190 - val_loss: 0.0803 - val_mean_squared_error: 0.0803\n",
      "Epoch 5/15\n",
      "30/30 [==============================] - 0s 11ms/step - loss: 0.0749 - mean_squared_error: 0.0749 - val_loss: 0.0783 - val_mean_squared_error: 0.0783\n",
      "Epoch 6/15\n",
      "30/30 [==============================] - 0s 11ms/step - loss: 0.0730 - mean_squared_error: 0.0730 - val_loss: 0.0765 - val_mean_squared_error: 0.0765\n",
      "Epoch 7/15\n",
      "30/30 [==============================] - 0s 10ms/step - loss: 0.0723 - mean_squared_error: 0.0723 - val_loss: 0.0772 - val_mean_squared_error: 0.0772\n",
      "Epoch 8/15\n",
      "30/30 [==============================] - 0s 14ms/step - loss: 0.0724 - mean_squared_error: 0.0724 - val_loss: 0.0771 - val_mean_squared_error: 0.0771\n",
      "Epoch 9/15\n",
      "30/30 [==============================] - 0s 8ms/step - loss: 0.0725 - mean_squared_error: 0.0725 - val_loss: 0.0767 - val_mean_squared_error: 0.0767\n",
      "Epoch 10/15\n",
      "30/30 [==============================] - 0s 4ms/step - loss: 0.0724 - mean_squared_error: 0.0724 - val_loss: 0.0770 - val_mean_squared_error: 0.0770\n",
      "Epoch 11/15\n",
      "30/30 [==============================] - 0s 4ms/step - loss: 0.0725 - mean_squared_error: 0.0725 - val_loss: 0.0769 - val_mean_squared_error: 0.0769\n",
      "Epoch 12/15\n",
      "30/30 [==============================] - 0s 3ms/step - loss: 0.0727 - mean_squared_error: 0.0727 - val_loss: 0.0772 - val_mean_squared_error: 0.0772\n",
      "Epoch 13/15\n",
      "30/30 [==============================] - 0s 4ms/step - loss: 0.0727 - mean_squared_error: 0.0727 - val_loss: 0.0762 - val_mean_squared_error: 0.0762\n",
      "Epoch 14/15\n",
      "30/30 [==============================] - 0s 4ms/step - loss: 0.0723 - mean_squared_error: 0.0723 - val_loss: 0.0777 - val_mean_squared_error: 0.0777\n",
      "Epoch 15/15\n",
      "30/30 [==============================] - 0s 5ms/step - loss: 0.0727 - mean_squared_error: 0.0727 - val_loss: 0.0764 - val_mean_squared_error: 0.0764\n",
      "Test loss: 0.06340964883565903\n",
      "Test mse: 0.06340964883565903\n"
     ]
    }
   ],
   "source": [
    "model.compile(optimizer ='adam', loss = 'mean_squared_error',\n",
    "              metrics =[metrics.mse])\n",
    "\n",
    "history = model.fit(X_train, y_train, validation_data=(X_val,y_val), epochs=15, batch_size=32)\n",
    "score = model.evaluate(X_test, y_test, verbose=0)\n",
    "print('Test loss:', score[0])\n",
    "print('Test mse:', score[1])"
   ]
  },
  {
   "cell_type": "markdown",
   "metadata": {
    "id": "VXN3t9JBYJ34"
   },
   "source": [
    "[Problem 6] Learning MNIST with Keras. Please rewrite the multi-valued classification of images by MNIST dataset by TensorFlow to Keras."
   ]
  },
  {
   "cell_type": "code",
   "execution_count": 17,
   "metadata": {
    "colab": {
     "base_uri": "https://localhost:8080/"
    },
    "id": "ATQY8ObduSHZ",
    "outputId": "02332e89-145b-41fc-b2b3-fb31d9abc020"
   },
   "outputs": [
    {
     "name": "stderr",
     "output_type": "stream",
     "text": [
      "/usr/local/lib/python3.10/dist-packages/sklearn/preprocessing/_encoders.py:868: FutureWarning: `sparse` was renamed to `sparse_output` in version 1.2 and will be removed in 1.4. `sparse_output` is ignored unless you leave `sparse` to its default value.\n",
      "  warnings.warn(\n",
      "/usr/local/lib/python3.10/dist-packages/sklearn/preprocessing/_encoders.py:868: FutureWarning: `sparse` was renamed to `sparse_output` in version 1.2 and will be removed in 1.4. `sparse_output` is ignored unless you leave `sparse` to its default value.\n",
      "  warnings.warn(\n"
     ]
    }
   ],
   "source": [
    "(x_train,y_train),(x_test,y_test)=mnist.load_data()\n",
    "x_train.shape\n",
    "y_train.shape\n",
    "\n",
    "X_train = x_train.astype(float)\n",
    "X_test = x_test.astype(float)\n",
    "X_train /= 255\n",
    "X_test /= 255\n",
    "\n",
    "enc = OneHotEncoder(handle_unknown='ignore',sparse=False)\n",
    "y_train_one_hot = enc.fit_transform(y_train[:,np.newaxis])\n",
    "y_test_one_hot = enc.fit_transform(y_test[:,np.newaxis])\n",
    "\n",
    "X_train, X_val, y_train, y_val = train_test_split(X_train, y_train_one_hot, test_size=0.2, random_state=0)"
   ]
  },
  {
   "cell_type": "code",
   "execution_count": 18,
   "metadata": {
    "colab": {
     "base_uri": "https://localhost:8080/"
    },
    "id": "1YSbFOXLvQgY",
    "outputId": "78b6e28c-a443-4a92-b9d7-128ac91cebba"
   },
   "outputs": [
    {
     "name": "stdout",
     "output_type": "stream",
     "text": [
      "Model: \"sequential_5\"\n",
      "_________________________________________________________________\n",
      " Layer (type)                Output Shape              Param #   \n",
      "=================================================================\n",
      " conv2d (Conv2D)             (None, 26, 26, 32)        320       \n",
      "                                                                 \n",
      " max_pooling2d (MaxPooling2  (None, 13, 13, 32)        0         \n",
      " D)                                                              \n",
      "                                                                 \n",
      " flatten_1 (Flatten)         (None, 5408)              0         \n",
      "                                                                 \n",
      " dense_12 (Dense)            (None, 100)               540900    \n",
      "                                                                 \n",
      " dense_13 (Dense)            (None, 10)                1010      \n",
      "                                                                 \n",
      "=================================================================\n",
      "Total params: 542230 (2.07 MB)\n",
      "Trainable params: 542230 (2.07 MB)\n",
      "Non-trainable params: 0 (0.00 Byte)\n",
      "_________________________________________________________________\n"
     ]
    }
   ],
   "source": [
    " model = Sequential()\n",
    " model.add(Conv2D(32, (3,3), activation = 'relu', input_shape = (28,28,1)))\n",
    " model.add(MaxPooling2D((2,2)))\n",
    " model.add(Flatten())\n",
    " model.add(Dense(100, activation = 'relu', kernel_initializer='he_uniform'))\n",
    " model.add(Dense(10, activation='softmax'))\n",
    "\n",
    " model.summary()"
   ]
  },
  {
   "cell_type": "code",
   "execution_count": 19,
   "metadata": {
    "colab": {
     "base_uri": "https://localhost:8080/"
    },
    "id": "80Xp978JwdrZ",
    "outputId": "14630813-e2b0-48b2-e738-772a6094eb4c"
   },
   "outputs": [
    {
     "name": "stdout",
     "output_type": "stream",
     "text": [
      "Epoch 1/5\n",
      "1500/1500 [==============================] - 33s 22ms/step - loss: 0.5251 - accuracy: 0.8586 - val_loss: 0.2749 - val_accuracy: 0.9192\n",
      "Epoch 2/5\n",
      "1500/1500 [==============================] - 33s 22ms/step - loss: 0.2508 - accuracy: 0.9256 - val_loss: 0.2047 - val_accuracy: 0.9394\n",
      "Epoch 3/5\n",
      "1500/1500 [==============================] - 34s 23ms/step - loss: 0.1959 - accuracy: 0.9420 - val_loss: 0.1647 - val_accuracy: 0.9519\n",
      "Epoch 4/5\n",
      "1500/1500 [==============================] - 33s 22ms/step - loss: 0.1612 - accuracy: 0.9517 - val_loss: 0.1433 - val_accuracy: 0.9583\n",
      "Epoch 5/5\n",
      "1500/1500 [==============================] - 31s 20ms/step - loss: 0.1368 - accuracy: 0.9597 - val_loss: 0.1230 - val_accuracy: 0.9638\n",
      "Test loss: 0.12086412310600281\n",
      "Test acc: 0.9625999927520752\n"
     ]
    }
   ],
   "source": [
    "opt = SGD(learning_rate=0.01)\n",
    "model.compile(optimizer=opt, loss='categorical_crossentropy',metrics=['accuracy'])\n",
    "\n",
    "history = model.fit(\n",
    "    X_train,\n",
    "    y_train,\n",
    "    validation_data=(X_val, y_val),\n",
    "    epochs = 5,\n",
    "    batch_size = 32,\n",
    "    verbose = True)\n",
    "\n",
    "score = model.evaluate(X_test, y_test_one_hot, verbose=0)\n",
    "print('Test loss:',score[0])\n",
    "print('Test acc:',score[1])"
   ]
  }
 ],
 "metadata": {
  "colab": {
   "include_colab_link": true,
   "provenance": []
  },
  "kernelspec": {
   "display_name": "Python 3 (ipykernel)",
   "language": "python",
   "name": "python3"
  },
  "language_info": {
   "codemirror_mode": {
    "name": "ipython",
    "version": 3
   },
   "file_extension": ".py",
   "mimetype": "text/x-python",
   "name": "python",
   "nbconvert_exporter": "python",
   "pygments_lexer": "ipython3",
   "version": "3.10.11"
  }
 },
 "nbformat": 4,
 "nbformat_minor": 4
}
